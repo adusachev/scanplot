{
 "cells": [
  {
   "cell_type": "markdown",
   "metadata": {},
   "source": [
    "# Setup"
   ]
  },
  {
   "cell_type": "code",
   "execution_count": null,
   "metadata": {
    "is_executing": true
   },
   "outputs": [],
   "source": [
    "import numpy as np\n",
    "\n",
    "import matplotlib.pyplot as plt\n",
    "from jupyter_bbox_widget import BBoxWidget\n",
    "from plotly.express import imshow as imshow_interactive"
   ]
  },
  {
   "cell_type": "code",
   "execution_count": null,
   "metadata": {},
   "outputs": [],
   "source": [
    "import sys\n",
    "import pathlib\n",
    "\n",
    "REPO_DIR = pathlib.Path(__name__).resolve().parent.parent\n",
    "SRC_DIR = str(REPO_DIR / \"src\")\n",
    "sys.path.append(SRC_DIR)"
   ]
  },
  {
   "cell_type": "code",
   "execution_count": null,
   "metadata": {},
   "outputs": [],
   "source": [
    "from scanplot.io import load_image, dump_coords_csv\n",
    "from scanplot.plotting import draw_image, draw_ROI\n",
    "from scanplot.view import (\n",
    "    CoordinatesMapper, DetectorWidget, MarkerSelectorBBoxWidget, ROISelectorBBoxWidget,\n",
    "    DetectorWidgetCombined\n",
    ")\n",
    "\n",
    "from scanplot.core.process_template import extract_markers_from_image\n",
    "\n",
    "from scanplot.core import (\n",
    "    template_match,\n",
    "    replace_black_pixels,\n",
    "    normalize_map,\n",
    "    image_tresholding,\n",
    "    get_template_mask,\n",
    "    center_object_on_template_image,\n",
    "    reconstruct_template_mask,\n",
    "    generalized_hough_transform,\n",
    "    CoordinatesConverter,\n",
    "    bboxes_to_roi,\n",
    "    _apply_roi,\n",
    ")"
   ]
  },
  {
   "cell_type": "code",
   "execution_count": null,
   "metadata": {},
   "outputs": [],
   "source": [
    "from scanplot.core import Plot"
   ]
  },
  {
   "cell_type": "markdown",
   "metadata": {},
   "source": [
    "# Algorithm Pipeline"
   ]
  },
  {
   "cell_type": "markdown",
   "metadata": {},
   "source": [
    "## 1. Upload plot image"
   ]
  },
  {
   "cell_type": "markdown",
   "metadata": {},
   "source": [
    "Input data examples can be found in `<REPOSITORY>/datasets/`."
   ]
  },
  {
   "cell_type": "code",
   "execution_count": null,
   "metadata": {},
   "outputs": [],
   "source": [
    "data_path = pathlib.Path(\"../datasets/\")\n",
    "plot_number = 22\n",
    "plot_image_filepath = data_path / \"plot_images\" / f\"plot{plot_number}.png\""
   ]
  },
  {
   "cell_type": "code",
   "execution_count": null,
   "metadata": {},
   "outputs": [],
   "source": [
    "image = load_image(plot_image_filepath)\n",
    "\n",
    "plot = Plot(image)\n",
    "plot.draw()"
   ]
  },
  {
   "cell_type": "markdown",
   "metadata": {},
   "source": [
    "## 2. Select markers on image\n"
   ]
  },
  {
   "cell_type": "markdown",
   "metadata": {},
   "source": [
    "Specify how much marker types on image"
   ]
  },
  {
   "cell_type": "code",
   "execution_count": null,
   "metadata": {},
   "outputs": [],
   "source": [
    "plot.set_markers_number(3)"
   ]
  },
  {
   "cell_type": "code",
   "execution_count": null,
   "metadata": {},
   "outputs": [],
   "source": [
    "marker_selector_widget = MarkerSelectorBBoxWidget(\n",
    "    image_data=plot.data,\n",
    "    markers_number=plot.markers_number,\n",
    ")"
   ]
  },
  {
   "cell_type": "code",
   "execution_count": null,
   "metadata": {},
   "outputs": [],
   "source": [
    "display(marker_selector_widget)"
   ]
  },
  {
   "cell_type": "markdown",
   "metadata": {},
   "source": [
    "Validate chosen bounding boxes and extract marker images"
   ]
  },
  {
   "cell_type": "code",
   "execution_count": null,
   "metadata": {},
   "outputs": [],
   "source": [
    "marker_selector_widget.bboxes = [{'x': 329, 'y': 806, 'width': 64, 'height': 64, 'label': 'marker1'},\n",
    " {'x': 262, 'y': 754, 'width': 62, 'height': 52, 'label': 'marker2'}]"
   ]
  },
  {
   "cell_type": "code",
   "execution_count": null,
   "metadata": {},
   "outputs": [],
   "source": [
    "marker_selector_widget.validate_bboxes()\n",
    "\n",
    "plot.extract_markers(marker_bboxes=marker_selector_widget.bboxes)"
   ]
  },
  {
   "cell_type": "code",
   "execution_count": null,
   "metadata": {},
   "outputs": [],
   "source": []
  },
  {
   "cell_type": "code",
   "execution_count": null,
   "metadata": {},
   "outputs": [],
   "source": [
    "# ## draw extracted markers\n",
    "\n",
    "# for marker_label, marker_image in plot.markers.items():\n",
    "#     draw_image(marker_image)\n",
    "#     plt.title(marker_label)\n",
    "#     plt.show()"
   ]
  },
  {
   "cell_type": "markdown",
   "metadata": {},
   "source": [
    "## 3. (optional step) Select region of interest\n",
    "\n",
    "For each marker type you can specify its own region of interest.\n",
    "Default ROI is a whole image."
   ]
  },
  {
   "cell_type": "code",
   "execution_count": null,
   "metadata": {},
   "outputs": [],
   "source": [
    "roi_widget = ROISelectorBBoxWidget(\n",
    "    image_data=plot.data, \n",
    "    markers_number=plot.markers_number,\n",
    ")"
   ]
  },
  {
   "cell_type": "code",
   "execution_count": null,
   "metadata": {},
   "outputs": [],
   "source": [
    "display(roi_widget)"
   ]
  },
  {
   "cell_type": "code",
   "execution_count": null,
   "metadata": {},
   "outputs": [],
   "source": [
    "# roi_widget.bboxes = [{'x': 457, 'y': 641, 'width': 220, 'height': 139, 'label': 'ROI for marker1'},\n",
    "#  {'x': 637, 'y': 575, 'width': 147, 'height': 100, 'label': 'ROI for marker1'},\n",
    "#  {'x': 742, 'y': 478, 'width': 231, 'height': 116, 'label': 'ROI for marker1'},\n",
    "#  {'x': 746, 'y': 555, 'width': 257, 'height': 242, 'label': 'ROI for marker2'}]\n",
    "\n",
    "roi_widget.bboxes = [{'x': 238,\n",
    "  'y': 263,\n",
    "  'width': 1199,\n",
    "  'height': 620,\n",
    "  'label': 'ROI for marker1'},\n",
    " {'x': 253,\n",
    "  'y': 221,\n",
    "  'width': 1202,\n",
    "  'height': 666,\n",
    "  'label': 'ROI for marker2'}]"
   ]
  },
  {
   "cell_type": "code",
   "execution_count": null,
   "metadata": {},
   "outputs": [],
   "source": [
    "plot._images_algorithm_input"
   ]
  },
  {
   "cell_type": "code",
   "execution_count": null,
   "metadata": {},
   "outputs": [],
   "source": [
    "plot.apply_roi(roi_bboxes=roi_widget.bboxes)"
   ]
  },
  {
   "cell_type": "code",
   "execution_count": null,
   "metadata": {},
   "outputs": [],
   "source": [
    "plot.draw_region_of_interest(marker=\"marker3\")"
   ]
  },
  {
   "cell_type": "markdown",
   "metadata": {},
   "source": [
    "## 4. Run matching algorithms"
   ]
  },
  {
   "cell_type": "code",
   "execution_count": null,
   "metadata": {},
   "outputs": [],
   "source": [
    "correlation_maps = plot.run_matching()"
   ]
  },
  {
   "cell_type": "code",
   "execution_count": null,
   "metadata": {},
   "outputs": [],
   "source": [
    "# imshow_interactive(correlation_maps[\"marker2\"])"
   ]
  },
  {
   "cell_type": "code",
   "execution_count": null,
   "metadata": {},
   "outputs": [],
   "source": [
    "# res = plot._match_single_marker(\n",
    "#     plot.data,\n",
    "#     plot.markers[\"marker1\"],\n",
    "#     plot._marker_masks[\"marker1\"],\n",
    "# )"
   ]
  },
  {
   "cell_type": "markdown",
   "metadata": {},
   "source": [
    "## 5. Select algorithm parameters"
   ]
  },
  {
   "cell_type": "code",
   "execution_count": null,
   "metadata": {},
   "outputs": [],
   "source": [
    "settings = {\n",
    "    \"fig_size\": 9,\n",
    "    \"marker_size\": 70,\n",
    "    \"marker_color\": \"yellow\",\n",
    "    \"marker_type\": \"*\",\n",
    "}"
   ]
  },
  {
   "cell_type": "code",
   "execution_count": null,
   "metadata": {},
   "outputs": [],
   "source": [
    "# detector_widget_marker1 = DetectorWidget(plot, marker=\"marker1\")\n",
    "# # detector_widget_marker1.apply_widget_settings(**settings)  # change settings if you want\n",
    "# detector_widget_marker1.widget()"
   ]
  },
  {
   "cell_type": "code",
   "execution_count": null,
   "metadata": {},
   "outputs": [],
   "source": [
    "detector_widget = DetectorWidgetCombined(plot)\n",
    "detector_widget.apply_widget_settings(**settings)   # change settings if you want\n",
    "detector_widget.widget()"
   ]
  },
  {
   "cell_type": "code",
   "execution_count": null,
   "metadata": {},
   "outputs": [],
   "source": [
    "# points coordinates in pixels (!)\n",
    "\n",
    "all_detections = detector_widget.get_detections()\n",
    "\n",
    "marker1_detections = all_detections[\"marker1\"]\n",
    "x = marker1_detections[:, 0]\n",
    "y = marker1_detections[:, 1]\n",
    "plt.scatter(x, y, alpha=0.5)"
   ]
  },
  {
   "cell_type": "markdown",
   "metadata": {},
   "source": [
    "## 5. Convert obtained coordinates from pixel to real values"
   ]
  },
  {
   "cell_type": "code",
   "execution_count": null,
   "metadata": {},
   "outputs": [],
   "source": [
    "mapper = CoordinatesMapper(image)\n",
    "\n",
    "fig_size = 10\n",
    "mapper_widget = mapper.interactive_widget(fig_size=fig_size)"
   ]
  },
  {
   "cell_type": "code",
   "execution_count": null,
   "metadata": {},
   "outputs": [],
   "source": [
    "display(mapper_widget)"
   ]
  },
  {
   "cell_type": "markdown",
   "metadata": {},
   "source": [
    "Convert pixel coordinates to factual coordinates"
   ]
  },
  {
   "cell_type": "code",
   "execution_count": null,
   "metadata": {},
   "outputs": [],
   "source": [
    "converter = CoordinatesConverter()\n",
    "converter.import_parameters_from_mapper(mapper)"
   ]
  },
  {
   "cell_type": "code",
   "execution_count": null,
   "metadata": {},
   "outputs": [],
   "source": [
    "x_px = marker1_detections.x\n",
    "y_px = marker2_detections.y\n",
    "\n",
    "x_factual, y_factual = converter.from_pixel(x_pixel=x_px, y_pixel=y_px)"
   ]
  },
  {
   "cell_type": "code",
   "execution_count": null,
   "metadata": {},
   "outputs": [],
   "source": [
    "plt.scatter(x_factual, y_factual)"
   ]
  },
  {
   "cell_type": "code",
   "execution_count": null,
   "metadata": {},
   "outputs": [],
   "source": []
  },
  {
   "cell_type": "markdown",
   "metadata": {},
   "source": [
    "Save obtained coordinates in csv"
   ]
  },
  {
   "cell_type": "code",
   "execution_count": null,
   "metadata": {},
   "outputs": [],
   "source": [
    "dump_coords_csv(\n",
    "    x=x_factual,\n",
    "    y=y_factual,\n",
    "    savepath=f\"detections_plot{PLOT_NUMBER}_marker{MARKER_NUMBER}.csv\"\n",
    ")"
   ]
  },
  {
   "cell_type": "code",
   "execution_count": null,
   "metadata": {},
   "outputs": [],
   "source": []
  }
 ],
 "metadata": {
  "kernelspec": {
   "display_name": "scanplot-hacNhlbC-py3.11",
   "language": "python",
   "name": "python3"
  },
  "language_info": {
   "codemirror_mode": {
    "name": "ipython",
    "version": 3
   },
   "file_extension": ".py",
   "mimetype": "text/x-python",
   "name": "python",
   "nbconvert_exporter": "python",
   "pygments_lexer": "ipython3",
   "version": "3.11.2"
  }
 },
 "nbformat": 4,
 "nbformat_minor": 2
}
