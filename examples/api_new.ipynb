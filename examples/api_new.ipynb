{
 "cells": [
  {
   "cell_type": "markdown",
   "metadata": {},
   "source": [
    "# Setup"
   ]
  },
  {
   "cell_type": "code",
   "execution_count": null,
   "metadata": {
    "is_executing": true
   },
   "outputs": [],
   "source": [
    "import numpy as np\n",
    "import cv2 as cv\n",
    "import matplotlib.pyplot as plt\n",
    "from jupyter_bbox_widget import BBoxWidget\n",
    "from plotly.express import imshow as imshow_interactive"
   ]
  },
  {
   "cell_type": "code",
   "execution_count": null,
   "metadata": {},
   "outputs": [],
   "source": [
    "import sys\n",
    "import pathlib\n",
    "\n",
    "REPO_DIR = pathlib.Path(__name__).resolve().parent.parent\n",
    "SRC_DIR = str(REPO_DIR / \"src\")\n",
    "sys.path.append(SRC_DIR)"
   ]
  },
  {
   "cell_type": "code",
   "execution_count": null,
   "metadata": {},
   "outputs": [],
   "source": [
    "from scanplot.io import load_image, dump_coords_csv\n",
    "from scanplot.plotting import draw_image, draw_ROI\n",
    "from scanplot.view import (\n",
    "    CoordinatesMapper, DetectorWidget, MarkerSelectorBBoxWidget, ROISelectorBBoxWidget\n",
    ")\n",
    "\n",
    "from scanplot.core.process_template import extract_markers_from_image\n",
    "\n",
    "from scanplot.core import (\n",
    "    template_match,\n",
    "    replace_black_pixels,\n",
    "    normalize_map,\n",
    "    image_tresholding,\n",
    "    get_template_mask,\n",
    "    center_object_on_template_image,\n",
    "    reconstruct_template_mask,\n",
    "    generalized_hough_transform,\n",
    "    CoordinatesConverter,\n",
    "    bboxes_to_roi,\n",
    "    _apply_roi,\n",
    ")"
   ]
  },
  {
   "cell_type": "code",
   "execution_count": null,
   "metadata": {},
   "outputs": [],
   "source": [
    "from scanplot.core import Plot"
   ]
  },
  {
   "cell_type": "markdown",
   "metadata": {},
   "source": [
    "# Algorithm Pipeline"
   ]
  },
  {
   "cell_type": "markdown",
   "metadata": {},
   "source": [
    "## 1. Upload plot image"
   ]
  },
  {
   "cell_type": "markdown",
   "metadata": {},
   "source": [
    "Input data examples can be found in `<REPOSITORY>/datasets/`."
   ]
  },
  {
   "cell_type": "code",
   "execution_count": null,
   "metadata": {},
   "outputs": [],
   "source": [
    "data_path = pathlib.Path(\"../datasets/\")\n",
    "plot_number = 37\n",
    "plot_image_filepath = data_path / \"plot_images\" / f\"plot{plot_number}.png\"\n",
    "\n",
    "plot = Plot(plot_image_filepath)\n",
    "plot.draw()"
   ]
  },
  {
   "cell_type": "markdown",
   "metadata": {},
   "source": [
    "## 2. Select markers on image\n"
   ]
  },
  {
   "cell_type": "markdown",
   "metadata": {},
   "source": [
    "Specify how much marker types on image"
   ]
  },
  {
   "cell_type": "code",
   "execution_count": null,
   "metadata": {},
   "outputs": [],
   "source": [
    "plot.set_markers_number(2)"
   ]
  },
  {
   "cell_type": "code",
   "execution_count": null,
   "metadata": {},
   "outputs": [],
   "source": [
    "marker_selector_widget = MarkerSelectorBBoxWidget(\n",
    "    image_data=plot.data,\n",
    "    markers_number=plot.markers_number,\n",
    ")"
   ]
  },
  {
   "cell_type": "code",
   "execution_count": null,
   "metadata": {},
   "outputs": [],
   "source": [
    "display(marker_selector_widget)"
   ]
  },
  {
   "cell_type": "markdown",
   "metadata": {},
   "source": [
    "Validate chosen bounding boxes and extract marker images"
   ]
  },
  {
   "cell_type": "code",
   "execution_count": null,
   "metadata": {},
   "outputs": [],
   "source": [
    "marker_selector_widget.validate_bboxes()\n",
    "\n",
    "plot.extract_markers(marker_bboxes=marker_selector_widget.bboxes)"
   ]
  },
  {
   "cell_type": "code",
   "execution_count": null,
   "metadata": {},
   "outputs": [],
   "source": [
    "## draw extracted markers\n",
    "\n",
    "# for marker in plot.markers:\n",
    "#     draw_image(marker)\n",
    "#     plt.show()"
   ]
  },
  {
   "cell_type": "markdown",
   "metadata": {},
   "source": [
    "## 3. (optional step) Select region of interest\n",
    "\n",
    "For each marker type you can specify its own region of interest.\n",
    "Default ROI is a whole image."
   ]
  },
  {
   "cell_type": "code",
   "execution_count": null,
   "metadata": {},
   "outputs": [],
   "source": [
    "roi_widget = ROISelectorBBoxWidget(\n",
    "    image_data=plot.data, \n",
    "    markers_number=plot.markers_number,\n",
    ")"
   ]
  },
  {
   "cell_type": "code",
   "execution_count": null,
   "metadata": {},
   "outputs": [],
   "source": [
    "display(roi_widget)"
   ]
  },
  {
   "cell_type": "code",
   "execution_count": null,
   "metadata": {},
   "outputs": [],
   "source": [
    "# roi_widget.bboxes"
   ]
  },
  {
   "cell_type": "code",
   "execution_count": null,
   "metadata": {},
   "outputs": [],
   "source": [
    "plot.apply_roi(roi_bboxes=roi_widget.bboxes)"
   ]
  },
  {
   "cell_type": "code",
   "execution_count": null,
   "metadata": {},
   "outputs": [],
   "source": [
    "# TODO\n",
    "\n",
    "# ## draw obtained ROI\n",
    "\n",
    "# plt.subplot(1, 2, 1)\n",
    "# draw_image(plot.data)\n",
    "# draw_ROI(_pl)\n",
    "\n",
    "# plt.subplot(1, 2, 2)\n",
    "# draw_image(plot.data)\n",
    "# draw_ROI(roi_list[1])"
   ]
  },
  {
   "cell_type": "markdown",
   "metadata": {},
   "source": [
    "## 4. Run matching algorithms"
   ]
  },
  {
   "cell_type": "code",
   "execution_count": null,
   "metadata": {},
   "outputs": [],
   "source": [
    "correlation_maps = plot_image.run_matching()\n",
    "\n",
    "## inside: preprocessing"
   ]
  },
  {
   "cell_type": "markdown",
   "metadata": {},
   "source": [
    "## 5. Select algorithm parameters"
   ]
  },
  {
   "cell_type": "code",
   "execution_count": null,
   "metadata": {},
   "outputs": [],
   "source": [
    "## input: \n",
    "# 1) list of corr correlation_maps\n",
    "# 2) list of preprocessed images\n",
    "# 3) list of preprocessed marker images (only for shapes)\n",
    "\n",
    "detector = DetectorWidget(\n",
    "    source_image=plot_image.data,\n",
    "    correlation_maps_list=correlation_maps,\n",
    "    markers_list=plot_image.markers\n",
    ")"
   ]
  },
  {
   "cell_type": "code",
   "execution_count": null,
   "metadata": {},
   "outputs": [],
   "source": [
    "widget_settings = {\n",
    "    \"fig_size\": 9,\n",
    "    \"marker_size\": 70,\n",
    "    \"marker_color\": \"yellow\",\n",
    "    \"marker_type\": \"*\",\n",
    "}\n",
    "\n",
    "detector_widget = detector.main_widget(**widget_settings)"
   ]
  },
  {
   "cell_type": "code",
   "execution_count": null,
   "metadata": {},
   "outputs": [],
   "source": [
    "display(detector_widget)"
   ]
  },
  {
   "cell_type": "code",
   "execution_count": null,
   "metadata": {},
   "outputs": [],
   "source": [
    "all_markers_detections = detector.get_detections()\n",
    "marker1_detections = detector.get_detections_for_marker(marker=\"marker1\")\n",
    "\n",
    "# points coordinates in pixels (!)\n",
    "x = pixel_detections.x\n",
    "y = pixel_detections.y\n",
    "plt.scatter(x, y)"
   ]
  },
  {
   "cell_type": "markdown",
   "metadata": {},
   "source": [
    "## 5. Convert obtained coordinates from pixel to real values"
   ]
  },
  {
   "cell_type": "code",
   "execution_count": null,
   "metadata": {},
   "outputs": [],
   "source": [
    "mapper = CoordinatesMapper(source_plot_image)\n",
    "\n",
    "fig_size = 10\n",
    "mapper_widget = mapper.interactive_widget(fig_size=fig_size)"
   ]
  },
  {
   "cell_type": "code",
   "execution_count": null,
   "metadata": {},
   "outputs": [],
   "source": [
    "display(mapper_widget)"
   ]
  },
  {
   "cell_type": "markdown",
   "metadata": {},
   "source": [
    "Convert pixel coordinates to factual coordinates"
   ]
  },
  {
   "cell_type": "code",
   "execution_count": null,
   "metadata": {},
   "outputs": [],
   "source": [
    "converter = CoordinatesConverter()\n",
    "converter.import_parameters_from_mapper(mapper)"
   ]
  },
  {
   "cell_type": "code",
   "execution_count": null,
   "metadata": {},
   "outputs": [],
   "source": [
    "x_px = marker1_detections.x\n",
    "y_px = marker2_detections.y\n",
    "\n",
    "x_factual, y_factual = converter.from_pixel(x_pixel=x_px, y_pixel=y_px)"
   ]
  },
  {
   "cell_type": "code",
   "execution_count": null,
   "metadata": {},
   "outputs": [],
   "source": [
    "plt.scatter(x_factual, y_factual)"
   ]
  },
  {
   "cell_type": "code",
   "execution_count": null,
   "metadata": {},
   "outputs": [],
   "source": []
  },
  {
   "cell_type": "code",
   "execution_count": null,
   "metadata": {},
   "outputs": [],
   "source": []
  },
  {
   "cell_type": "code",
   "execution_count": null,
   "metadata": {},
   "outputs": [],
   "source": []
  },
  {
   "cell_type": "code",
   "execution_count": null,
   "metadata": {},
   "outputs": [],
   "source": [
    "PLOT_NUMBER = 37\n",
    "MARKER_NUMBER = 2\n",
    "\n",
    "PLOT_PATH = DATA_PATH / \"plot_images\" / f\"plot{PLOT_NUMBER}.png\"\n",
    "TEMPLATE_PATH = DATA_PATH / \"marker_images\" / f\"plot{PLOT_NUMBER}_marker{MARKER_NUMBER}.png\""
   ]
  },
  {
   "cell_type": "code",
   "execution_count": null,
   "metadata": {},
   "outputs": [],
   "source": [
    "source_plot_image = load_image(PLOT_PATH)\n",
    "source_template_image = load_image(TEMPLATE_PATH)\n",
    "\n",
    "plot_image = np.copy(source_plot_image)\n",
    "template_image = np.copy(source_template_image)"
   ]
  },
  {
   "cell_type": "code",
   "execution_count": null,
   "metadata": {},
   "outputs": [],
   "source": [
    "plt.subplot(1, 2, 1)\n",
    "draw_image(source_plot_image)\n",
    "plt.title(\"Source scatter plot image\")\n",
    "\n",
    "plt.subplot(1, 2, 2)\n",
    "draw_image(source_template_image)\n",
    "plt.title(\"Chosen marker\")"
   ]
  },
  {
   "cell_type": "markdown",
   "metadata": {},
   "source": [
    "## 2. (optional step) Select region of interest\n",
    "\n",
    "Default ROI is a whole image"
   ]
  },
  {
   "cell_type": "code",
   "execution_count": null,
   "metadata": {},
   "outputs": [],
   "source": [
    "roi_widget = BBoxWidget(\n",
    "    hide_buttons=True,\n",
    "    classes=[\"Region of interest\"],\n",
    "    image_bytes=cv.imencode(\".png\", source_plot_image)[1].tobytes(),\n",
    "    colors=[\"green\"],\n",
    ")"
   ]
  },
  {
   "cell_type": "code",
   "execution_count": null,
   "metadata": {},
   "outputs": [],
   "source": [
    "display(roi_widget)"
   ]
  },
  {
   "cell_type": "code",
   "execution_count": null,
   "metadata": {},
   "outputs": [],
   "source": [
    "roi = bboxes_to_roi(source_plot_image, roi_widget.bboxes)\n",
    "plot_image = apply_roi(source_plot_image, roi)\n",
    "\n",
    "draw_image(source_plot_image)\n",
    "draw_ROI(roi)"
   ]
  },
  {
   "cell_type": "markdown",
   "metadata": {},
   "source": [
    "## 3. Run matching algorithms"
   ]
  },
  {
   "cell_type": "markdown",
   "metadata": {},
   "source": [
    "3.1. Preprocess plot image and template image"
   ]
  },
  {
   "cell_type": "code",
   "execution_count": null,
   "metadata": {},
   "outputs": [],
   "source": [
    "template_mask_initial = get_template_mask(source_template_image)\n",
    "\n",
    "template_image, template_mask = center_object_on_template_image(\n",
    "    source_template_image, template_mask_initial\n",
    ")\n",
    "\n",
    "plot_image = replace_black_pixels(plot_image, value=10)\n",
    "template_image = replace_black_pixels(template_image, value=10)\n",
    "\n",
    "# additional_template_mask = reconstruct_template_mask(template_mask)"
   ]
  },
  {
   "cell_type": "markdown",
   "metadata": {},
   "source": [
    "3.2. Run template matching algorithm and compute correlatoin map"
   ]
  },
  {
   "cell_type": "code",
   "execution_count": null,
   "metadata": {},
   "outputs": [],
   "source": [
    "correlation_map, _ = template_match(\n",
    "    plot_image, template_image, template_mask, norm_result=True\n",
    ")\n",
    "\n",
    "# correlation_map_additional, _ = template_match(\n",
    "#     plot_image, template_image, additional_template_mask, norm_result=True\n",
    "# )"
   ]
  },
  {
   "cell_type": "markdown",
   "metadata": {},
   "source": [
    "3.3. Run Hough transform algorithm and compute accumulator array"
   ]
  },
  {
   "cell_type": "code",
   "execution_count": null,
   "metadata": {},
   "outputs": [],
   "source": [
    "accumulator = generalized_hough_transform(\n",
    "    plot_image, template_image, norm_result=True, crop_result=True\n",
    ")\n",
    "\n",
    "assert correlation_map.shape == accumulator.shape"
   ]
  },
  {
   "cell_type": "markdown",
   "metadata": {},
   "source": [
    "3.4. Combine correlation map obtained by template matching algorithm and accumulator array from Hough Transform"
   ]
  },
  {
   "cell_type": "code",
   "execution_count": null,
   "metadata": {},
   "outputs": [],
   "source": [
    "correlation_map_with_hough = correlation_map + 0.6 * accumulator\n",
    "correlation_map_with_hough = normalize_map(correlation_map_with_hough)\n",
    "\n",
    "# correlation_map_combined = correlation_map + 0.7 * correlation_map_additional\n",
    "# correlation_map_combined = normalize_map(correlation_map_combined)"
   ]
  },
  {
   "cell_type": "markdown",
   "metadata": {},
   "source": [
    "## 4. Select algorithm parameters"
   ]
  },
  {
   "cell_type": "markdown",
   "metadata": {},
   "source": [
    "The algorithm has 2 parameters:\n",
    "- Points Number\n",
    "- Points Density\n",
    "\n",
    "Learn more about parameters selection in [documentation](https://github.com/adusachev/scanplot/blob/master/docs/user_manual.md#detector)."
   ]
  },
  {
   "cell_type": "code",
   "execution_count": null,
   "metadata": {},
   "outputs": [],
   "source": [
    "detector = DetectorWidget(\n",
    "    source_image=source_plot_image,\n",
    "    template=template_image,\n",
    "    correlation_map=correlation_map_with_hough\n",
    ")"
   ]
  },
  {
   "cell_type": "code",
   "execution_count": null,
   "metadata": {},
   "outputs": [],
   "source": [
    "widget_settings = {\n",
    "    \"fig_size\": 9,\n",
    "    \"marker_size\": 70,\n",
    "    \"marker_color\": \"yellow\",\n",
    "    \"marker_type\": \"*\",\n",
    "}\n",
    "\n",
    "detector_widget = detector.main_widget(**widget_settings)"
   ]
  },
  {
   "cell_type": "code",
   "execution_count": null,
   "metadata": {},
   "outputs": [],
   "source": [
    "display(detector_widget)"
   ]
  },
  {
   "cell_type": "code",
   "execution_count": null,
   "metadata": {},
   "outputs": [],
   "source": [
    "detected_points_px = detector.get_detections()\n",
    "\n",
    "# points coordinates in pixels (!)\n",
    "x = detected_points_px[:, 0]\n",
    "y = detected_points_px[:, 1]\n",
    "plt.scatter(x, y)"
   ]
  },
  {
   "cell_type": "code",
   "execution_count": null,
   "metadata": {},
   "outputs": [],
   "source": []
  },
  {
   "cell_type": "markdown",
   "metadata": {},
   "source": [
    "## 5. Convert obtained coordinates from pixel to real values"
   ]
  },
  {
   "cell_type": "markdown",
   "metadata": {},
   "source": [
    "Map pixel coordinates to factual coordinates"
   ]
  },
  {
   "cell_type": "code",
   "execution_count": null,
   "metadata": {},
   "outputs": [],
   "source": [
    "mapper = CoordinatesMapper(source_plot_image)"
   ]
  },
  {
   "cell_type": "code",
   "execution_count": null,
   "metadata": {},
   "outputs": [],
   "source": [
    "fig_size = 10\n",
    "\n",
    "mapper_widget = mapper.interactive_widget(fig_size=fig_size)\n",
    "display(mapper_widget)"
   ]
  },
  {
   "cell_type": "markdown",
   "metadata": {},
   "source": [
    "Convert pixel coordinates to factual coordinates"
   ]
  },
  {
   "cell_type": "code",
   "execution_count": null,
   "metadata": {},
   "outputs": [],
   "source": [
    "converter = CoordinatesConverter()\n",
    "converter.import_parameters_from_mapper(mapper)"
   ]
  },
  {
   "cell_type": "code",
   "execution_count": null,
   "metadata": {},
   "outputs": [],
   "source": [
    "x_px = detected_points_px[:, 0]\n",
    "y_px = detected_points_px[:, 1]\n",
    "\n",
    "x_factual, y_factual = converter.from_pixel(x_pixel=x_px, y_pixel=y_px)"
   ]
  },
  {
   "cell_type": "code",
   "execution_count": null,
   "metadata": {},
   "outputs": [],
   "source": [
    "plt.scatter(x_factual, y_factual)"
   ]
  },
  {
   "cell_type": "markdown",
   "metadata": {},
   "source": [
    "Save obtained coordinates in csv"
   ]
  },
  {
   "cell_type": "code",
   "execution_count": null,
   "metadata": {},
   "outputs": [],
   "source": [
    "dump_coords_csv(\n",
    "    x=x_factual,\n",
    "    y=y_factual,\n",
    "    savepath=f\"detections_plot{PLOT_NUMBER}_marker{MARKER_NUMBER}.csv\"\n",
    ")"
   ]
  },
  {
   "cell_type": "code",
   "execution_count": null,
   "metadata": {},
   "outputs": [],
   "source": []
  },
  {
   "cell_type": "code",
   "execution_count": null,
   "metadata": {},
   "outputs": [],
   "source": []
  }
 ],
 "metadata": {
  "kernelspec": {
   "display_name": "scanplot-hacNhlbC-py3.11",
   "language": "python",
   "name": "python3"
  },
  "language_info": {
   "codemirror_mode": {
    "name": "ipython",
    "version": 3
   },
   "file_extension": ".py",
   "mimetype": "text/x-python",
   "name": "python",
   "nbconvert_exporter": "python",
   "pygments_lexer": "ipython3",
   "version": "3.11.2"
  }
 },
 "nbformat": 4,
 "nbformat_minor": 2
}
