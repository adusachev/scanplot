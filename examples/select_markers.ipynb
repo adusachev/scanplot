{
 "cells": [
  {
   "cell_type": "code",
   "execution_count": null,
   "metadata": {},
   "outputs": [],
   "source": [
    "from jupyter_bbox_widget import BBoxWidget\n",
    "import matplotlib.pyplot as plt\n",
    "import numpy as np\n",
    "import pathlib\n",
    "import cv2 as cv\n",
    "\n",
    "from scanplot.io import read_image_rgb\n",
    "from scanplot.plotting import draw_image, draw_bbox\n",
    "from scanplot.core.process_template import crop_image"
   ]
  },
  {
   "cell_type": "code",
   "execution_count": null,
   "metadata": {},
   "outputs": [],
   "source": [
    "DATA_PATH = pathlib.Path(\"../datasets/\")"
   ]
  },
  {
   "cell_type": "code",
   "execution_count": null,
   "metadata": {},
   "outputs": [],
   "source": [
    "PLOT_NUMBER = 37\n",
    "\n",
    "PLOT_PATH = DATA_PATH / \"plot_images\" / f\"plot{PLOT_NUMBER}.png\""
   ]
  },
  {
   "cell_type": "code",
   "execution_count": null,
   "metadata": {},
   "outputs": [],
   "source": [
    "source_image = read_image_rgb(PLOT_PATH)\n",
    "img_bytes = cv.imencode('.png', source_image)[1].tobytes()\n",
    "\n",
    "# draw_image(source_image)"
   ]
  },
  {
   "cell_type": "code",
   "execution_count": null,
   "metadata": {},
   "outputs": [],
   "source": [
    "NUMBER_OF_MARKERS = 2\n",
    "marker_titles = [f\"marker{i+1}\" for i in range(NUMBER_OF_MARKERS)]"
   ]
  },
  {
   "cell_type": "code",
   "execution_count": null,
   "metadata": {},
   "outputs": [],
   "source": [
    "widget = BBoxWidget(\n",
    "    classes=marker_titles,\n",
    "    hide_buttons=True\n",
    ")\n",
    "widget.image_bytes = img_bytes"
   ]
  },
  {
   "cell_type": "code",
   "execution_count": null,
   "metadata": {},
   "outputs": [],
   "source": [
    "widget"
   ]
  },
  {
   "cell_type": "code",
   "execution_count": null,
   "metadata": {},
   "outputs": [],
   "source": [
    "widget.bboxes"
   ]
  },
  {
   "cell_type": "code",
   "execution_count": null,
   "metadata": {},
   "outputs": [],
   "source": [
    "# save marker images\n",
    "\n",
    "for i, bbox in enumerate(widget.bboxes):\n",
    "    x_min = bbox[\"x\"]\n",
    "    x_max = bbox[\"x\"] + bbox[\"width\"]\n",
    "    y_min = bbox[\"y\"]\n",
    "    y_max = bbox[\"y\"] + bbox[\"height\"]\n",
    "    label = bbox[\"label\"]\n",
    "    \n",
    "    marker_image = crop_image(source_image, bbox=(x_min, x_max, y_min, y_max))\n",
    "    \n",
    "    cv.imwrite(\n",
    "        filename=str(DATA_PATH / \"marker_images\" / f\"plot{PLOT_NUMBER}_marker{i+1}.png\"), \n",
    "        img=marker_image,\n",
    "    )"
   ]
  },
  {
   "cell_type": "code",
   "execution_count": null,
   "metadata": {},
   "outputs": [],
   "source": [
    "for bbox in widget.bboxes:\n",
    "    x_min = bbox[\"x\"]\n",
    "    x_max = bbox[\"x\"] + bbox[\"width\"]\n",
    "    y_min = bbox[\"y\"]\n",
    "    y_max = bbox[\"y\"] + bbox[\"height\"]\n",
    "\n",
    "    marker_image = crop_image(source_image, bbox=(x_min, x_max, y_min, y_max))\n",
    "    draw_image(marker_image)\n",
    "    plt.show()"
   ]
  },
  {
   "cell_type": "code",
   "execution_count": null,
   "metadata": {},
   "outputs": [],
   "source": [
    "# draw_image(source_image)\n",
    "\n",
    "# for bbox in widget.bboxes:\n",
    "#     x_min = bbox[\"x\"]\n",
    "#     x_max = bbox[\"x\"] + bbox[\"width\"]\n",
    "#     y_min = bbox[\"y\"]\n",
    "#     y_max = bbox[\"y\"] + bbox[\"height\"]\n",
    "#     draw_bbox(x_min, x_max, y_min, y_max)"
   ]
  },
  {
   "cell_type": "code",
   "execution_count": null,
   "metadata": {},
   "outputs": [],
   "source": []
  }
 ],
 "metadata": {
  "kernelspec": {
   "display_name": "scanplot-hacNhlbC-py3.11",
   "language": "python",
   "name": "python3"
  },
  "language_info": {
   "codemirror_mode": {
    "name": "ipython",
    "version": 3
   },
   "file_extension": ".py",
   "mimetype": "text/x-python",
   "name": "python",
   "nbconvert_exporter": "python",
   "pygments_lexer": "ipython3",
   "version": "3.11.2"
  }
 },
 "nbformat": 4,
 "nbformat_minor": 2
}
