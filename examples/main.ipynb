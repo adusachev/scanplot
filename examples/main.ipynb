{
 "cells": [
  {
   "cell_type": "markdown",
   "metadata": {},
   "source": [
    "# Setup"
   ]
  },
  {
   "cell_type": "markdown",
   "metadata": {},
   "source": [
    "## Import libraries"
   ]
  },
  {
   "cell_type": "code",
   "execution_count": null,
   "metadata": {
    "is_executing": true
   },
   "outputs": [],
   "source": [
    "import matplotlib.pyplot as plt\n",
    "import numpy as np\n",
    "\n",
    "from plotly.express import imshow as imshow_interactive"
   ]
  },
  {
   "cell_type": "markdown",
   "metadata": {},
   "source": [
    "## Import app modules"
   ]
  },
  {
   "cell_type": "code",
   "execution_count": null,
   "metadata": {},
   "outputs": [],
   "source": [
    "import sys\n",
    "import pathlib\n",
    "\n",
    "REPO_DIR = pathlib.Path(__name__).resolve().parent.parent\n",
    "SRC_DIR = str(REPO_DIR / \"src\")\n",
    "sys.path.append(SRC_DIR)"
   ]
  },
  {
   "cell_type": "code",
   "execution_count": null,
   "metadata": {},
   "outputs": [],
   "source": [
    "from scanplot.io.read_image import read_image_rgb\n",
    "from scanplot.io.saving import dump_coords_csv\n",
    "from scanplot.plotting import draw_image"
   ]
  },
  {
   "cell_type": "code",
   "execution_count": null,
   "metadata": {},
   "outputs": [],
   "source": [
    "from scanplot.core.template_match import template_match\n",
    "from scanplot.core.preprocess import replace_black_pixels\n",
    "from scanplot.core.corr_map_operations import normalize_map\n",
    "from scanplot.core.process_template import (\n",
    "    template_tresholding, reconstruct_template_mask\n",
    ")\n",
    "from scanplot.core.hough_transform import generalized_hough_transform\n",
    "from scanplot.core.coords_converter import CoordinatesConverter"
   ]
  },
  {
   "cell_type": "code",
   "execution_count": null,
   "metadata": {},
   "outputs": [],
   "source": [
    "from scanplot.view.detector_widget import DetectorWidget\n",
    "from scanplot.view.coords_mapper_widget import CoordinatesMapper"
   ]
  },
  {
   "cell_type": "markdown",
   "metadata": {},
   "source": [
    "# Algorithm Pipeline"
   ]
  },
  {
   "cell_type": "markdown",
   "metadata": {},
   "source": [
    "## Upload plot image and template image"
   ]
  },
  {
   "cell_type": "markdown",
   "metadata": {},
   "source": [
    "Input data examples can be found in `<REPOSITORY>/datasets/`."
   ]
  },
  {
   "cell_type": "code",
   "execution_count": null,
   "metadata": {},
   "outputs": [],
   "source": [
    "DATA_PATH = pathlib.Path(\"../datasets/\")"
   ]
  },
  {
   "cell_type": "code",
   "execution_count": null,
   "metadata": {},
   "outputs": [],
   "source": [
    "PLOT_NUMBER = 59\n",
    "MARKER_NUMBER = 1\n",
    "\n",
    "PLOT_PATH = DATA_PATH / \"plot_images\" / f\"plot{PLOT_NUMBER}.png\"\n",
    "TEMPLATE_PATH = (\n",
    "    DATA_PATH / \"marker_images\" / f\"plot{PLOT_NUMBER}_marker{MARKER_NUMBER}.png\"\n",
    ")"
   ]
  },
  {
   "cell_type": "code",
   "execution_count": null,
   "metadata": {},
   "outputs": [],
   "source": [
    "source_image = read_image_rgb(PLOT_PATH)\n",
    "source_template = read_image_rgb(TEMPLATE_PATH)\n",
    "\n",
    "image = replace_black_pixels(source_image)\n",
    "template = replace_black_pixels(source_template)"
   ]
  },
  {
   "cell_type": "code",
   "execution_count": null,
   "metadata": {},
   "outputs": [],
   "source": [
    "plt.subplot(1, 2, 1)\n",
    "draw_image(image)\n",
    "plt.title(\"Source image\")\n",
    "plt.xticks([])\n",
    "plt.yticks([])\n",
    "\n",
    "plt.subplot(1, 2, 2)\n",
    "draw_image(template)\n",
    "plt.title(\"Chosen marker\")\n",
    "plt.xticks([])\n",
    "plt.yticks([]);"
   ]
  },
  {
   "cell_type": "markdown",
   "metadata": {},
   "source": [
    "## Tresholding"
   ]
  },
  {
   "cell_type": "code",
   "execution_count": null,
   "metadata": {},
   "outputs": [],
   "source": [
    "TRESHOLD_VALUE = 190\n",
    "template_mask = template_tresholding(template, TRESHOLD_VALUE)\n",
    "additional_template_mask = reconstruct_template_mask(template_mask)\n",
    "\n",
    "# fig = plt.figure()\n",
    "# plt.subplot(1, 2, 1)\n",
    "# draw_image(template_mask)\n",
    "# plt.xticks([]); plt.yticks([])\n",
    "\n",
    "# plt.subplot(1, 2, 2)\n",
    "# draw_image(additional_template_mask)\n",
    "# plt.xticks([]); plt.yticks([]);"
   ]
  },
  {
   "cell_type": "markdown",
   "metadata": {},
   "source": [
    "## Template matching"
   ]
  },
  {
   "cell_type": "markdown",
   "metadata": {},
   "source": [
    "Run template matching algorithm and compute convolutoin (or correlatoin) map."
   ]
  },
  {
   "cell_type": "code",
   "execution_count": null,
   "metadata": {},
   "outputs": [],
   "source": [
    "correlation_map, _ = template_match(\n",
    "    image, template, template_mask, norm_result=True\n",
    ")\n",
    "correlation_map_additional, _ = template_match(\n",
    "    image, template, additional_template_mask, norm_result=True\n",
    ")"
   ]
  },
  {
   "cell_type": "markdown",
   "metadata": {},
   "source": [
    "## Hough transform"
   ]
  },
  {
   "cell_type": "code",
   "execution_count": null,
   "metadata": {},
   "outputs": [],
   "source": [
    "accumulator = generalized_hough_transform(\n",
    "    image, template, norm_result=True, crop_result=True\n",
    ")\n",
    "\n",
    "assert correlation_map.shape == accumulator.shape"
   ]
  },
  {
   "cell_type": "markdown",
   "metadata": {},
   "source": [
    "## Combine correlation maps"
   ]
  },
  {
   "cell_type": "markdown",
   "metadata": {},
   "source": [
    "This step combines correlation map obtained by template matching algorithm and accumulator array from Hough Transform."
   ]
  },
  {
   "cell_type": "code",
   "execution_count": null,
   "metadata": {},
   "outputs": [],
   "source": [
    "# correlation_map_combined = correlation_map + 0.7 * correlation_map_additional\n",
    "# correlation_map_combined = normalize_map(correlation_map_combined)\n",
    "\n",
    "correlation_map_with_hough = correlation_map + 0.6 * accumulator\n",
    "correlation_map_with_hough = normalize_map(correlation_map_with_hough)"
   ]
  },
  {
   "cell_type": "code",
   "execution_count": null,
   "metadata": {},
   "outputs": [],
   "source": [
    "# imshow_interactive(correlation_map_with_hough)"
   ]
  },
  {
   "cell_type": "markdown",
   "metadata": {},
   "source": [
    "## Algorithm parameters"
   ]
  },
  {
   "cell_type": "markdown",
   "metadata": {},
   "source": [
    "The algorithm has 2 parameters:\n",
    "- Points Number\n",
    "- Points Density\n"
   ]
  },
  {
   "cell_type": "markdown",
   "metadata": {},
   "source": [
    "The impact of these parameters on the final result is shown in the images below:\n",
    "\n",
    "![](../../docs/images/parameter_search_1.png)\n",
    "\n",
    "![](../../docs/images/parameter_search_2.png)"
   ]
  },
  {
   "cell_type": "code",
   "execution_count": null,
   "metadata": {},
   "outputs": [],
   "source": [
    "detector = DetectorWidget(\n",
    "    source_image=source_image,\n",
    "    template=template,\n",
    "    correlation_map=correlation_map_with_hough\n",
    ")"
   ]
  },
  {
   "cell_type": "code",
   "execution_count": null,
   "metadata": {},
   "outputs": [],
   "source": [
    "fig_size = 10\n",
    "marker_size = 60\n",
    "marker_color = \"yellow\"\n",
    "marker_type = \"*\"\n",
    "\n",
    "\n",
    "detector.main_widget(fig_size, marker_size, marker_color, marker_type)"
   ]
  },
  {
   "cell_type": "code",
   "execution_count": null,
   "metadata": {},
   "outputs": [],
   "source": [
    "detected_points_px = detector.get_detections()\n",
    "\n",
    "# points coordinates in pixels (!)\n",
    "x = detected_points_px[:, 0]\n",
    "y = detected_points_px[:, 1]\n",
    "plt.scatter(x, y)"
   ]
  },
  {
   "cell_type": "code",
   "execution_count": null,
   "metadata": {},
   "outputs": [],
   "source": []
  },
  {
   "cell_type": "markdown",
   "metadata": {},
   "source": [
    "# Convert coordinates"
   ]
  },
  {
   "cell_type": "markdown",
   "metadata": {},
   "source": [
    "Map pixel coordinates to factual coordinates"
   ]
  },
  {
   "cell_type": "code",
   "execution_count": null,
   "metadata": {},
   "outputs": [],
   "source": [
    "mapper = CoordinatesMapper(source_image)"
   ]
  },
  {
   "cell_type": "code",
   "execution_count": null,
   "metadata": {},
   "outputs": [],
   "source": [
    "mapper.interactive_widget()"
   ]
  },
  {
   "cell_type": "markdown",
   "metadata": {},
   "source": [
    "Convert pixel coordinates to factual coordinates"
   ]
  },
  {
   "cell_type": "code",
   "execution_count": null,
   "metadata": {},
   "outputs": [],
   "source": [
    "converter = CoordinatesConverter()\n",
    "converter.import_parameters_from_mapper(mapper)"
   ]
  },
  {
   "cell_type": "code",
   "execution_count": null,
   "metadata": {},
   "outputs": [],
   "source": [
    "x_px = detected_points_px[:, 0]\n",
    "y_px = detected_points_px[:, 1]\n",
    "\n",
    "x_factual, y_factual = converter.from_pixel(x_pixel=x_px, y_pixel=y_px)"
   ]
  },
  {
   "cell_type": "code",
   "execution_count": null,
   "metadata": {},
   "outputs": [],
   "source": [
    "plt.scatter(x_factual, y_factual)"
   ]
  },
  {
   "cell_type": "code",
   "execution_count": null,
   "metadata": {},
   "outputs": [],
   "source": [
    "# dump_coords_csv(\n",
    "#     x=x_factual,\n",
    "#     y=y_factual,\n",
    "#     savepath=\"tmp.csv\"\n",
    "# )"
   ]
  },
  {
   "cell_type": "code",
   "execution_count": null,
   "metadata": {},
   "outputs": [],
   "source": []
  }
 ],
 "metadata": {
  "kernelspec": {
   "display_name": "scanplot-hacNhlbC-py3.11",
   "language": "python",
   "name": "python3"
  },
  "language_info": {
   "codemirror_mode": {
    "name": "ipython",
    "version": 3
   },
   "file_extension": ".py",
   "mimetype": "text/x-python",
   "name": "python",
   "nbconvert_exporter": "python",
   "pygments_lexer": "ipython3",
   "version": "3.11.2"
  }
 },
 "nbformat": 4,
 "nbformat_minor": 2
}
