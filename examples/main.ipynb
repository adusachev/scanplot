{
 "cells": [
  {
   "cell_type": "markdown",
   "metadata": {},
   "source": [
    "# Setup"
   ]
  },
  {
   "cell_type": "code",
   "execution_count": null,
   "metadata": {
    "is_executing": true
   },
   "outputs": [],
   "source": [
    "import numpy as np\n",
    "import cv2 as cv\n",
    "import matplotlib.pyplot as plt\n",
    "from jupyter_bbox_widget import BBoxWidget\n",
    "from plotly.express import imshow as imshow_interactive"
   ]
  },
  {
   "cell_type": "code",
   "execution_count": null,
   "metadata": {},
   "outputs": [],
   "source": [
    "import sys\n",
    "import pathlib\n",
    "\n",
    "REPO_DIR = pathlib.Path(__name__).resolve().parent.parent\n",
    "SRC_DIR = str(REPO_DIR / \"src\")\n",
    "sys.path.append(SRC_DIR)"
   ]
  },
  {
   "cell_type": "code",
   "execution_count": null,
   "metadata": {},
   "outputs": [],
   "source": [
    "from scanplot.io import read_image_rgb, dump_coords_csv\n",
    "from scanplot.plotting import draw_image, draw_ROI\n",
    "from scanplot.view import CoordinatesMapper, DetectorWidget\n",
    "\n",
    "from scanplot.core import (\n",
    "    template_match,\n",
    "    replace_black_pixels,\n",
    "    normalize_map,\n",
    "    image_tresholding,\n",
    "    reconstruct_template_mask,\n",
    "    generalized_hough_transform,\n",
    "    CoordinatesConverter,\n",
    "    bboxes_to_roi,\n",
    "    apply_roi,\n",
    ")"
   ]
  },
  {
   "cell_type": "markdown",
   "metadata": {},
   "source": [
    "# Algorithm Pipeline"
   ]
  },
  {
   "cell_type": "markdown",
   "metadata": {},
   "source": [
    "## 1. Upload plot image and template image"
   ]
  },
  {
   "cell_type": "markdown",
   "metadata": {},
   "source": [
    "Input data examples can be found in `<REPOSITORY>/datasets/`."
   ]
  },
  {
   "cell_type": "code",
   "execution_count": null,
   "metadata": {},
   "outputs": [],
   "source": [
    "DATA_PATH = pathlib.Path(\"../datasets/\")"
   ]
  },
  {
   "cell_type": "code",
   "execution_count": null,
   "metadata": {},
   "outputs": [],
   "source": [
    "PLOT_NUMBER = 51\n",
    "MARKER_NUMBER = 1\n",
    "\n",
    "PLOT_PATH = DATA_PATH / \"plot_images\" / f\"plot{PLOT_NUMBER}.png\"\n",
    "TEMPLATE_PATH = (\n",
    "    DATA_PATH / \"marker_images\" / f\"plot{PLOT_NUMBER}_marker{MARKER_NUMBER}.png\"\n",
    ")"
   ]
  },
  {
   "cell_type": "code",
   "execution_count": null,
   "metadata": {},
   "outputs": [],
   "source": [
    "source_image = read_image_rgb(PLOT_PATH)\n",
    "source_template = read_image_rgb(TEMPLATE_PATH)\n",
    "\n",
    "image = replace_black_pixels(source_image, value=10)\n",
    "template = replace_black_pixels(source_template, value=10)"
   ]
  },
  {
   "cell_type": "code",
   "execution_count": null,
   "metadata": {},
   "outputs": [],
   "source": [
    "plt.subplot(1, 2, 1)\n",
    "draw_image(image)\n",
    "plt.title(\"Source image\")\n",
    "\n",
    "plt.subplot(1, 2, 2)\n",
    "draw_image(template)\n",
    "plt.title(\"Chosen marker\")"
   ]
  },
  {
   "cell_type": "code",
   "execution_count": null,
   "metadata": {},
   "outputs": [],
   "source": []
  },
  {
   "cell_type": "code",
   "execution_count": null,
   "metadata": {},
   "outputs": [],
   "source": []
  },
  {
   "cell_type": "markdown",
   "metadata": {},
   "source": [
    "## 2. (optional step) Select region of interest\n",
    "\n",
    "Default ROI is a whole image"
   ]
  },
  {
   "cell_type": "code",
   "execution_count": null,
   "metadata": {},
   "outputs": [],
   "source": [
    "roi_widget = BBoxWidget(\n",
    "    hide_buttons=True,\n",
    "    classes=[\"Region of interest\"],\n",
    "    image_bytes=cv.imencode(\".png\", source_image)[1].tobytes(),\n",
    "    colors=[\"green\"],\n",
    ")"
   ]
  },
  {
   "cell_type": "code",
   "execution_count": null,
   "metadata": {},
   "outputs": [],
   "source": [
    "display(roi_widget)"
   ]
  },
  {
   "cell_type": "code",
   "execution_count": null,
   "metadata": {},
   "outputs": [],
   "source": [
    "roi = bboxes_to_roi(source_image, roi_widget.bboxes)\n",
    "\n",
    "draw_image(source_image)\n",
    "draw_ROI(roi)"
   ]
  },
  {
   "cell_type": "code",
   "execution_count": null,
   "metadata": {},
   "outputs": [],
   "source": [
    "image = apply_roi(image, roi)"
   ]
  },
  {
   "cell_type": "markdown",
   "metadata": {},
   "source": [
    "## 3. Run matching algorithms"
   ]
  },
  {
   "cell_type": "markdown",
   "metadata": {},
   "source": [
    "3.1. Perform template tresholding and create template masks"
   ]
  },
  {
   "cell_type": "code",
   "execution_count": null,
   "metadata": {},
   "outputs": [],
   "source": [
    "template_mask = image_tresholding(source_template, treshold=100)\n",
    "additional_template_mask = reconstruct_template_mask(template_mask)\n",
    "\n",
    "# fig = plt.figure()\n",
    "# plt.subplot(1, 2, 1)\n",
    "# draw_image(template_mask)\n",
    "\n",
    "# plt.subplot(1, 2, 2)\n",
    "# draw_image(additional_template_mask)"
   ]
  },
  {
   "cell_type": "code",
   "execution_count": null,
   "metadata": {},
   "outputs": [],
   "source": [
    "# draw_image(template_mask)"
   ]
  },
  {
   "cell_type": "markdown",
   "metadata": {},
   "source": [
    "3.2. Run template matching algorithm and compute correlatoin map"
   ]
  },
  {
   "cell_type": "code",
   "execution_count": null,
   "metadata": {},
   "outputs": [],
   "source": [
    "correlation_map, _ = template_match(\n",
    "    image, template, template_mask, norm_result=True\n",
    ")\n",
    "\n",
    "correlation_map2, _ = template_match(\n",
    "    image, template, template_mask, norm_result=True,\n",
    "    method_name=\"cv.TM_SQDIFF\"\n",
    ")\n",
    "\n",
    "correlation_map_additional, _ = template_match(\n",
    "    image, template, additional_template_mask, norm_result=True\n",
    ")"
   ]
  },
  {
   "cell_type": "markdown",
   "metadata": {},
   "source": [
    "3.3. Run Hough transform algorithm and compute accumulator array"
   ]
  },
  {
   "cell_type": "code",
   "execution_count": null,
   "metadata": {},
   "outputs": [],
   "source": [
    "accumulator = generalized_hough_transform(\n",
    "    image, template, norm_result=True, crop_result=True\n",
    ")\n",
    "\n",
    "assert correlation_map.shape == accumulator.shape"
   ]
  },
  {
   "cell_type": "markdown",
   "metadata": {},
   "source": [
    "3.4. Combine correlation map obtained by template matching algorithm and accumulator array from Hough Transform"
   ]
  },
  {
   "cell_type": "code",
   "execution_count": null,
   "metadata": {},
   "outputs": [],
   "source": [
    "# correlation_map_combined = correlation_map + 0.7 * correlation_map_additional\n",
    "# correlation_map_combined = normalize_map(correlation_map_combined)\n",
    "\n",
    "# correlation_map_with_hough = correlation_map + 0.6 * accumulator\n",
    "# correlation_map_with_hough = normalize_map(correlation_map_with_hough)\n",
    "\n",
    "# correlation_map_new = (correlation_map + correlation_map2) / 2\n",
    "# correlation_map_with_hough = correlation_map_new + 0.6 * accumulator\n",
    "\n",
    "correlation_map_with_hough = correlation_map + 0.6 * accumulator\n",
    "correlation_map_with_hough = normalize_map(correlation_map_with_hough)"
   ]
  },
  {
   "cell_type": "code",
   "execution_count": null,
   "metadata": {},
   "outputs": [],
   "source": [
    "imshow_interactive(correlation_map_with_hough)"
   ]
  },
  {
   "cell_type": "markdown",
   "metadata": {},
   "source": [
    "## 4. Select algorithm parameters"
   ]
  },
  {
   "cell_type": "markdown",
   "metadata": {},
   "source": [
    "The algorithm has 2 parameters:\n",
    "- Points Number\n",
    "- Points Density\n",
    "\n",
    "Learn more about parameters selection in [documentation](https://github.com/adusachev/scanplot/blob/develop/docs/user_manual.md#algorithm-parameters)."
   ]
  },
  {
   "cell_type": "code",
   "execution_count": null,
   "metadata": {},
   "outputs": [],
   "source": [
    "detector = DetectorWidget(\n",
    "    source_image=source_image,\n",
    "    template=template,\n",
    "    correlation_map=correlation_map_with_hough\n",
    ")"
   ]
  },
  {
   "cell_type": "code",
   "execution_count": null,
   "metadata": {},
   "outputs": [],
   "source": [
    "widget_settings = {\n",
    "    \"fig_size\": 9,\n",
    "    \"marker_size\": 50,\n",
    "    \"marker_color\": \"yellow\",\n",
    "    \"marker_type\": \"*\",\n",
    "}\n",
    "\n",
    "detector_widget = detector.main_widget(**widget_settings)\n",
    "display(detector_widget)"
   ]
  },
  {
   "cell_type": "code",
   "execution_count": null,
   "metadata": {},
   "outputs": [],
   "source": [
    "detected_points_px = detector.get_detections()\n",
    "\n",
    "# points coordinates in pixels (!)\n",
    "x = detected_points_px[:, 0]\n",
    "y = detected_points_px[:, 1]\n",
    "plt.scatter(x, y)"
   ]
  },
  {
   "cell_type": "code",
   "execution_count": null,
   "metadata": {},
   "outputs": [],
   "source": []
  },
  {
   "cell_type": "markdown",
   "metadata": {},
   "source": [
    "## 5. Convert obtained coordinates from pixel to real values"
   ]
  },
  {
   "cell_type": "markdown",
   "metadata": {},
   "source": [
    "Map pixel coordinates to factual coordinates"
   ]
  },
  {
   "cell_type": "code",
   "execution_count": null,
   "metadata": {},
   "outputs": [],
   "source": [
    "mapper = CoordinatesMapper(source_image)"
   ]
  },
  {
   "cell_type": "code",
   "execution_count": null,
   "metadata": {},
   "outputs": [],
   "source": [
    "fig_size = 10\n",
    "\n",
    "mapper_widget = mapper.interactive_widget(fig_size=fig_size)\n",
    "display(mapper_widget)"
   ]
  },
  {
   "cell_type": "markdown",
   "metadata": {},
   "source": [
    "Convert pixel coordinates to factual coordinates"
   ]
  },
  {
   "cell_type": "code",
   "execution_count": null,
   "metadata": {},
   "outputs": [],
   "source": [
    "converter = CoordinatesConverter()\n",
    "converter.import_parameters_from_mapper(mapper)"
   ]
  },
  {
   "cell_type": "code",
   "execution_count": null,
   "metadata": {},
   "outputs": [],
   "source": [
    "x_px = detected_points_px[:, 0]\n",
    "y_px = detected_points_px[:, 1]\n",
    "\n",
    "x_factual, y_factual = converter.from_pixel(x_pixel=x_px, y_pixel=y_px)"
   ]
  },
  {
   "cell_type": "code",
   "execution_count": null,
   "metadata": {},
   "outputs": [],
   "source": [
    "plt.scatter(x_factual, y_factual)"
   ]
  },
  {
   "cell_type": "markdown",
   "metadata": {},
   "source": [
    "Save obtained coordinates in csv"
   ]
  },
  {
   "cell_type": "code",
   "execution_count": null,
   "metadata": {},
   "outputs": [],
   "source": [
    "dump_coords_csv(\n",
    "    x=x_factual,\n",
    "    y=y_factual,\n",
    "    savepath=f\"detections_plot{PLOT_NUMBER}_marker{MARKER_NUMBER}.csv\"\n",
    ")"
   ]
  },
  {
   "cell_type": "code",
   "execution_count": null,
   "metadata": {},
   "outputs": [],
   "source": []
  },
  {
   "cell_type": "code",
   "execution_count": null,
   "metadata": {},
   "outputs": [],
   "source": []
  }
 ],
 "metadata": {
  "kernelspec": {
   "display_name": "scanplot-hacNhlbC-py3.11",
   "language": "python",
   "name": "python3"
  },
  "language_info": {
   "codemirror_mode": {
    "name": "ipython",
    "version": 3
   },
   "file_extension": ".py",
   "mimetype": "text/x-python",
   "name": "python",
   "nbconvert_exporter": "python",
   "pygments_lexer": "ipython3",
   "version": "3.11.2"
  }
 },
 "nbformat": 4,
 "nbformat_minor": 2
}
