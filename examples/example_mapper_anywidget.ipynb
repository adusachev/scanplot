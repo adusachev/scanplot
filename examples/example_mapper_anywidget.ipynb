{
 "cells": [
  {
   "cell_type": "markdown",
   "id": "0",
   "metadata": {},
   "source": [
    "# Coordinates Mapper interactive widget"
   ]
  },
  {
   "cell_type": "code",
   "execution_count": null,
   "id": "1",
   "metadata": {},
   "outputs": [],
   "source": [
    "import sys\n",
    "import pathlib\n",
    "\n",
    "REPO_DIR = pathlib.Path(__name__).resolve().parent.parent\n",
    "SRC_DIR = str(REPO_DIR / \"src\")\n",
    "sys.path.append(SRC_DIR)"
   ]
  },
  {
   "cell_type": "code",
   "execution_count": null,
   "id": "2",
   "metadata": {},
   "outputs": [],
   "source": [
    "from scanplot.view import MapperCanvasWidget, CartesianCoordsMapperWidget, CoordinatesMapperWidget\n",
    "from scanplot.io import load_image"
   ]
  },
  {
   "cell_type": "code",
   "execution_count": null,
   "id": "3",
   "metadata": {},
   "outputs": [],
   "source": [
    "plot_number = 22\n",
    "img_path = f\"../datasets/plot_images/plot{plot_number}.png\"\n",
    "\n",
    "image = load_image(img_path)"
   ]
  },
  {
   "cell_type": "markdown",
   "id": "4",
   "metadata": {},
   "source": [
    "## Mapper Canvas Widget using anywidget"
   ]
  },
  {
   "cell_type": "code",
   "execution_count": null,
   "id": "5",
   "metadata": {},
   "outputs": [],
   "source": [
    "mapper_widget_canvas = MapperCanvasWidget()\n",
    "\n",
    "mapper_widget_canvas.set_image(image)\n",
    "\n",
    "mapper_widget_canvas.apply_widget_settings(\n",
    "    fig_size=8,\n",
    "    line_width=1,\n",
    "    line_color=\"red\",\n",
    "    marker_size=6,\n",
    "    marker_color=\"green\"\n",
    ")"
   ]
  },
  {
   "cell_type": "code",
   "execution_count": null,
   "id": "6",
   "metadata": {},
   "outputs": [],
   "source": [
    "mapper_widget_canvas"
   ]
  },
  {
   "cell_type": "markdown",
   "id": "7",
   "metadata": {},
   "source": [
    "## Mapper Full Widget"
   ]
  },
  {
   "cell_type": "code",
   "execution_count": null,
   "id": "8",
   "metadata": {},
   "outputs": [],
   "source": [
    "mapper_widget = CartesianCoordsMapperWidget(image)\n",
    "\n",
    "mapper_widget.apply_widget_settings(\n",
    "    fig_size=8,\n",
    "    line_width=1,\n",
    "    line_color=\"red\",\n",
    "    marker_size=6,\n",
    "    marker_color=\"green\"\n",
    ")"
   ]
  },
  {
   "cell_type": "code",
   "execution_count": null,
   "id": "9",
   "metadata": {},
   "outputs": [],
   "source": [
    "mapper_widget.widget()"
   ]
  },
  {
   "cell_type": "code",
   "execution_count": null,
   "id": "10",
   "metadata": {},
   "outputs": [],
   "source": [
    "params = mapper_widget.export_parameters()\n",
    "params"
   ]
  },
  {
   "cell_type": "code",
   "execution_count": null,
   "id": "11",
   "metadata": {},
   "outputs": [],
   "source": []
  }
 ],
 "metadata": {
  "kernelspec": {
   "display_name": "scanplot-hacNhlbC-py3.11",
   "language": "python",
   "name": "python3"
  },
  "language_info": {
   "codemirror_mode": {
    "name": "ipython",
    "version": 3
   },
   "file_extension": ".py",
   "mimetype": "text/x-python",
   "name": "python",
   "nbconvert_exporter": "python",
   "pygments_lexer": "ipython3",
   "version": "3.11.2"
  }
 },
 "nbformat": 4,
 "nbformat_minor": 5
}
