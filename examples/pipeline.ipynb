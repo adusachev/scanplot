{
 "cells": [
  {
   "cell_type": "markdown",
   "metadata": {},
   "source": [
    "# Setup"
   ]
  },
  {
   "cell_type": "markdown",
   "metadata": {},
   "source": [
    "## Import libraries"
   ]
  },
  {
   "cell_type": "code",
   "execution_count": null,
   "metadata": {},
   "outputs": [],
   "source": [
    "import os\n",
    "import pathlib\n",
    "import matplotlib.pyplot as plt\n",
    "import numpy as np\n",
    "import cv2 as cv\n",
    "\n",
    "\n",
    "from ipywidgets import interact, widgets, fixed\n",
    "from plotly.express import imshow as imshow_interactive"
   ]
  },
  {
   "cell_type": "code",
   "execution_count": null,
   "metadata": {},
   "outputs": [],
   "source": [
    "from dotenv import load_dotenv\n",
    "\n",
    "BASE_DIR = pathlib.Path(__name__).resolve().parent.parent.parent\n",
    "load_dotenv(BASE_DIR / \".env\")\n",
    "DATA_PATH = pathlib.Path(os.getenv(\"DATA_PATH\"))"
   ]
  },
  {
   "cell_type": "markdown",
   "metadata": {},
   "source": [
    "## Import core modules"
   ]
  },
  {
   "cell_type": "code",
   "execution_count": null,
   "metadata": {},
   "outputs": [],
   "source": [
    "import sys\n",
    "import pathlib\n",
    "\n",
    "SRC_DIR = str(pathlib.Path(__name__).resolve().parent.parent)\n",
    "sys.path.append(SRC_DIR)"
   ]
  },
  {
   "cell_type": "code",
   "execution_count": null,
   "metadata": {},
   "outputs": [],
   "source": [
    "from scanplot.setup_logger import logger"
   ]
  },
  {
   "cell_type": "code",
   "execution_count": null,
   "metadata": {},
   "outputs": [],
   "source": [
    "from scanplot.utils.read_image import read_image_rgb, read_image_gray\n",
    "from scanplot.utils.drawing import (\n",
    "    draw_image,\n",
    "    draw_points_on_canvas,\n",
    "    draw_points_on_image,\n",
    "    draw_bbox,\n",
    ")\n",
    "from scanplot.utils.widgets import init_points_num_slider, init_points_density_slider"
   ]
  },
  {
   "cell_type": "code",
   "execution_count": null,
   "metadata": {},
   "outputs": [],
   "source": [
    "from scanplot.core.template_match import (\n",
    "    template_match,\n",
    "    detect_points,\n",
    "    find_tolerance_limit,\n",
    ")\n",
    "\n",
    "from scanplot.core.clustering import (\n",
    "    simplify_points,\n",
    "    agglomerative_clustering,\n",
    "    meanshift_clustering,\n",
    ")\n",
    "\n",
    "from scanplot.core.preprocess import replace_black_pixels\n",
    "\n",
    "from scanplot.core.conv_map_operations import (\n",
    "    invert_convolution_map,\n",
    "    normalize_map,\n",
    "    get_first_N_maximums,\n",
    "    remove_nan_inf,\n",
    ")\n",
    "\n",
    "\n",
    "from scanplot.core.process_template import (\n",
    "    template_tresholding,\n",
    "    extract_largest_component,\n",
    "    find_bbox,\n",
    "    crop_image,\n",
    "    frame_image,\n",
    "    is_grayscale,\n",
    "    reconstruct_template_mask,\n",
    ")\n",
    "\n",
    "from scanplot.core.hough_transform import generalized_hough_transform\n",
    "\n",
    "from scanplot.core.parameters_search import (\n",
    "    linear_parameter_transform,\n",
    "    get_corr_map_maximums,\n",
    ")\n",
    "\n",
    "from scanplot.core.nms import (\n",
    "    apply_nms,\n",
    "    point_to_bbox,\n",
    "    get_bbox_from_point,\n",
    "    get_bbox_center,\n",
    ")"
   ]
  },
  {
   "cell_type": "code",
   "execution_count": null,
   "metadata": {},
   "outputs": [],
   "source": [
    "# convolution implementation\n",
    "from scanplot.core.convolution_from_stratch import (\n",
    "    get_image_part,\n",
    "    sqdiff,\n",
    "    compute_mask_pixel_ratio,\n",
    "    compute_mask_pixel_ratio_v2,\n",
    "    sqdiff_normed_modification,\n",
    "    sqdiff_normed,\n",
    "    cv_sqdiff_normed,\n",
    ")"
   ]
  },
  {
   "cell_type": "markdown",
   "metadata": {},
   "source": [
    "# Pipeline"
   ]
  },
  {
   "cell_type": "markdown",
   "metadata": {},
   "source": [
    "## Upload plot and template"
   ]
  },
  {
   "cell_type": "code",
   "execution_count": null,
   "metadata": {},
   "outputs": [],
   "source": [
    "PLOT_NUMBER = 59\n",
    "MARKER_NUMBER = 2\n",
    "\n",
    "PLOT_PATH = DATA_PATH / f\"plot{PLOT_NUMBER}.png\"\n",
    "TEMPLATE_PATH = (\n",
    "    DATA_PATH / \"markers_same_shape\" / f\"plot{PLOT_NUMBER}_marker{MARKER_NUMBER}.png\"\n",
    ")"
   ]
  },
  {
   "cell_type": "code",
   "execution_count": null,
   "metadata": {},
   "outputs": [],
   "source": [
    "source_image = read_image_rgb(PLOT_PATH)\n",
    "source_template = read_image_rgb(TEMPLATE_PATH)\n",
    "\n",
    "image = replace_black_pixels(source_image)\n",
    "template = replace_black_pixels(source_template)"
   ]
  },
  {
   "cell_type": "code",
   "execution_count": null,
   "metadata": {},
   "outputs": [],
   "source": [
    "h_image, w_image = image.shape[0], image.shape[1]\n",
    "h_template, w_template = template.shape[0], template.shape[1]\n",
    "\n",
    "h_image, w_image"
   ]
  },
  {
   "cell_type": "code",
   "execution_count": null,
   "metadata": {},
   "outputs": [],
   "source": [
    "plt.subplot(1, 2, 1)\n",
    "draw_image(image)\n",
    "plt.xticks([])\n",
    "plt.yticks([])\n",
    "\n",
    "plt.subplot(1, 2, 2)\n",
    "draw_image(template)\n",
    "plt.xticks([])\n",
    "plt.yticks([])"
   ]
  },
  {
   "cell_type": "markdown",
   "metadata": {},
   "source": [
    "## Add ROI (optional)"
   ]
  },
  {
   "cell_type": "code",
   "execution_count": null,
   "metadata": {},
   "outputs": [],
   "source": [
    "# imshow_interactive(image)"
   ]
  },
  {
   "cell_type": "code",
   "execution_count": null,
   "metadata": {},
   "outputs": [],
   "source": [
    "# x_min, x_max, y_min, y_max = 221, 458, 47, 418\n",
    "# roi_bbox = (x_min, x_max, y_min, y_max)\n",
    "\n",
    "# image = crop_image(image, roi_bbox)"
   ]
  },
  {
   "cell_type": "code",
   "execution_count": null,
   "metadata": {},
   "outputs": [],
   "source": [
    "# imshow_interactive(image)"
   ]
  },
  {
   "cell_type": "markdown",
   "metadata": {},
   "source": [
    "## Tresholding"
   ]
  },
  {
   "cell_type": "code",
   "execution_count": null,
   "metadata": {},
   "outputs": [],
   "source": [
    "TRESHOLD_VALUE = 190\n",
    "template_mask = template_tresholding(template, TRESHOLD_VALUE)\n",
    "new_template_mask = reconstruct_template_mask(template_mask)\n",
    "\n",
    "fig = plt.figure()\n",
    "plt.subplot(1, 2, 1)\n",
    "draw_image(template_mask)\n",
    "plt.xticks([])\n",
    "plt.yticks([])\n",
    "\n",
    "plt.subplot(1, 2, 2)\n",
    "draw_image(new_template_mask)\n",
    "plt.xticks([])\n",
    "plt.yticks([])"
   ]
  },
  {
   "cell_type": "markdown",
   "metadata": {},
   "source": [
    "## Template matching"
   ]
  },
  {
   "cell_type": "code",
   "execution_count": null,
   "metadata": {},
   "outputs": [],
   "source": [
    "# method_name = 'SQDIFF_MODIFICATION_V3_WITH_HOUGH'\n",
    "method_name = \"SQDIFF_MODIFICATION_V2\"\n",
    "method = \"cv.TM_SQDIFF_NORMED\"\n",
    "\n",
    "convolution_map, _ = template_match(image, template, template_mask, method)\n",
    "convolution_map2, _ = template_match(image, template, new_template_mask, method)"
   ]
  },
  {
   "cell_type": "markdown",
   "metadata": {},
   "source": [
    "## Hough transform"
   ]
  },
  {
   "cell_type": "code",
   "execution_count": null,
   "metadata": {},
   "outputs": [],
   "source": [
    "accumulator = generalized_hough_transform(\n",
    "    image, template, norm_result=True, crop_result=True\n",
    ")\n",
    "\n",
    "assert convolution_map.shape == accumulator.shape"
   ]
  },
  {
   "cell_type": "markdown",
   "metadata": {},
   "source": [
    "## Combine convolution maps"
   ]
  },
  {
   "cell_type": "code",
   "execution_count": null,
   "metadata": {},
   "outputs": [],
   "source": [
    "convolution_map = normalize_map(convolution_map)\n",
    "convolution_map2 = normalize_map(convolution_map2)\n",
    "\n",
    "convolution_map3 = convolution_map + 0.7 * convolution_map2\n",
    "convolution_map3 = normalize_map(convolution_map3)\n",
    "\n",
    "convolution_map4 = convolution_map + 0.6 * accumulator\n",
    "convolution_map4 = normalize_map(convolution_map4)"
   ]
  },
  {
   "cell_type": "code",
   "execution_count": null,
   "metadata": {},
   "outputs": [],
   "source": [
    "# imshow_interactive(convolution_map)"
   ]
  },
  {
   "cell_type": "markdown",
   "metadata": {},
   "source": [
    "## Interactive parameters search"
   ]
  },
  {
   "cell_type": "markdown",
   "metadata": {},
   "source": [
    "1) `points_num` - отвечает за количество точек (чем больше, тем больше точек детектируется)\n",
    "\n",
    "`points_num` = 0 => 1 точка\n",
    "\n",
    "`points_num` = 100 => бесконечно много точек \n",
    "\n",
    "\n",
    "2) `points_density` - отвечает за плотность точек (чем больше, тем **разреженнее** результат)\n",
    "\n",
    "`points_density` = 0 => не применяем NMS\n",
    "\n",
    "`points_density` = 100 => убираем очень много соседей"
   ]
  },
  {
   "cell_type": "code",
   "execution_count": null,
   "metadata": {},
   "outputs": [],
   "source": [
    "# TODO: move to separate module\n",
    "\n",
    "\n",
    "def detect_points_on_map(\n",
    "    points_num: float,\n",
    "    points_density: float,\n",
    "    correlation_map: np.ndarray,\n",
    "    draw_detections: bool = True,\n",
    "    return_result: bool = False,\n",
    "    figure_size: int = 10,\n",
    "    marker_size: int = 60,\n",
    "    marker_color: str = \"yellow\",\n",
    ") -> np.ndarray | None:\n",
    "\n",
    "    ## transform parameters\n",
    "    corr_map_treshold = linear_parameter_transform(points_num, a=-0.01, b=1)\n",
    "    iou_treshold = linear_parameter_transform(points_density, a=-0.01, b=1)\n",
    "\n",
    "    ## get max points\n",
    "    max_points, _ = get_corr_map_maximums(\n",
    "        correlation_map=correlation_map, treshold=corr_map_treshold\n",
    "    )\n",
    "\n",
    "    ## NMS\n",
    "    actual_points = apply_nms(\n",
    "        points=max_points,\n",
    "        correlation_map=correlation_map,\n",
    "        iou_treshold=iou_treshold,\n",
    "        bbox_width=w_template,  # TODO: this is global variable, fix it (!)\n",
    "        bbox_height=h_template,  # TODO: this is global variable, fix it (!)\n",
    "    )\n",
    "    x_nms = actual_points[:, 0]\n",
    "    y_nms = actual_points[:, 1]\n",
    "    number_of_points = len(actual_points)\n",
    "\n",
    "    ## draw founded points on original image\n",
    "    if draw_detections:\n",
    "        plt.figure(figsize=(figure_size, figure_size))\n",
    "        draw_image(source_image)\n",
    "        plt.scatter(\n",
    "            x_nms,\n",
    "            y_nms,\n",
    "            s=marker_size,\n",
    "            c=marker_color,\n",
    "            marker=\"*\",\n",
    "            edgecolors=\"black\",\n",
    "            linewidths=0.2,\n",
    "        )\n",
    "        plt.xticks([])\n",
    "        plt.yticks([])\n",
    "        plt.title(f\"{corr_map_treshold=:.3f}, {iou_treshold=:.2f}, {number_of_points=}\")\n",
    "        plt.show()\n",
    "\n",
    "    if return_result:\n",
    "        return actual_points"
   ]
  },
  {
   "cell_type": "code",
   "execution_count": null,
   "metadata": {},
   "outputs": [],
   "source": [
    "# parameters for drawing detections (may be customized)\n",
    "figure_size = 12\n",
    "marker_size = 200\n",
    "marker_color = \"yellow\"\n",
    "\n",
    "\n",
    "interact(\n",
    "    detect_points_on_map,\n",
    "    points_num=init_points_num_slider(),  # variable\n",
    "    points_density=init_points_density_slider(),  # variable\n",
    "    correlation_map=fixed(convolution_map4),  # constants\n",
    "    draw_detections=fixed(True),\n",
    "    return_result=fixed(False),\n",
    "    figure_size=fixed(figure_size),\n",
    "    marker_size=fixed(marker_size),\n",
    "    marker_color=fixed(marker_color),\n",
    "    continuous_update=True,\n",
    ");"
   ]
  },
  {
   "cell_type": "code",
   "execution_count": null,
   "metadata": {},
   "outputs": [],
   "source": [
    "points = detect_points_on_map(\n",
    "    points_num=49,\n",
    "    points_density=20,\n",
    "    correlation_map=convolution_map4,\n",
    "    draw_detections=False,\n",
    "    return_result=True,\n",
    ")\n",
    "\n",
    "points = points.astype(np.int64)"
   ]
  },
  {
   "cell_type": "code",
   "execution_count": null,
   "metadata": {},
   "outputs": [],
   "source": [
    "# @interact(points_num=widgets.FloatSlider(value=20, min=0, max=100, step=1),\n",
    "#           points_density=widgets.FloatSlider(value=20, min=0, max=100, step=1))\n",
    "# def visualize(points_num, points_density):\n",
    "\n",
    "\n",
    "#     CORR_MAP = convolution_map3\n",
    "\n",
    "#     ## transform parameters\n",
    "#     corr_map_treshold = linear_parameter_transform(points_num, a=-0.01, b=1)\n",
    "#     iou_treshold = linear_parameter_transform(points_density, a=-0.01, b=1)\n",
    "\n",
    "#     ## get max points\n",
    "#     max_points, number_of_maximums = get_corr_map_maximums(\n",
    "#         correlation_map=CORR_MAP,\n",
    "#         treshold=corr_map_treshold\n",
    "#     )\n",
    "\n",
    "#     ## NMS\n",
    "#     actual_points = apply_nms(\n",
    "#         points=max_points,\n",
    "#         correlation_map=CORR_MAP,\n",
    "#         iou_treshold=iou_treshold,\n",
    "#         bbox_width=w_template,\n",
    "#         bbox_height=h_template\n",
    "#     )\n",
    "#     x_nms = actual_points[:, 0]\n",
    "#     y_nms = actual_points[:, 1]\n",
    "\n",
    "#     ## draw founded points on original image\n",
    "#     plt.figure(figsize=(9, 9))\n",
    "#     draw_image(source_image)\n",
    "#     plt.scatter(x_nms, y_nms, s=60, c=\"yellow\", marker=\"*\",  edgecolors='black', linewidths=0.2)\n",
    "#     # plt.xticks([]); plt.yticks([]);\n",
    "#     plt.title(f\"{corr_map_treshold=}, {iou_treshold=}, {number_of_maximums=}\")\n",
    "#     plt.show()\n",
    "\n",
    "#     # ## draw founded points on clear canvas\n",
    "#     # plt.figure(figsize=(10, 6))\n",
    "#     # draw_points_on_canvas(actual_points, source_image)"
   ]
  },
  {
   "cell_type": "markdown",
   "metadata": {},
   "source": [
    "## Experiments"
   ]
  },
  {
   "cell_type": "code",
   "execution_count": null,
   "metadata": {},
   "outputs": [],
   "source": [
    "from scanplot.core.reconstruction import (\n",
    "    get_bbox_by_center_point,\n",
    "    insert_template_into_image,\n",
    ")"
   ]
  },
  {
   "cell_type": "code",
   "execution_count": null,
   "metadata": {},
   "outputs": [],
   "source": [
    "reconsctuction = image.copy()\n",
    "reconsctuction[:, :] = 255\n",
    "\n",
    "history = []\n",
    "\n",
    "template_non_mask_indexes = np.where(template_mask != 0)\n",
    "\n",
    "for point in points:\n",
    "    bbox = get_bbox_by_center_point(\n",
    "        center_point=point, width=w_template, height=h_template\n",
    "    )\n",
    "    reconsctuction = insert_template_into_image(\n",
    "        reconsctuction, template, bbox, template_mask\n",
    "    )\n",
    "\n",
    "    diff = cv.matchTemplate(image, reconsctuction, cv.TM_CCOEFF_NORMED)[0][0]\n",
    "    history.append(diff)\n",
    "\n",
    "    # plt.imshow(reconsctuction)\n",
    "    # plt.title(f\"{diff=}\")\n",
    "    # plt.show()"
   ]
  },
  {
   "cell_type": "code",
   "execution_count": null,
   "metadata": {},
   "outputs": [],
   "source": [
    "draw_image(reconsctuction)"
   ]
  },
  {
   "cell_type": "code",
   "execution_count": null,
   "metadata": {},
   "outputs": [],
   "source": [
    "plt.plot(history)\n",
    "plt.grid()"
   ]
  },
  {
   "cell_type": "code",
   "execution_count": null,
   "metadata": {},
   "outputs": [],
   "source": []
  }
 ],
 "metadata": {
  "kernelspec": {
   "display_name": "venv",
   "language": "python",
   "name": "python3"
  },
  "language_info": {
   "codemirror_mode": {
    "name": "ipython",
    "version": 3
   },
   "file_extension": ".py",
   "mimetype": "text/x-python",
   "name": "python",
   "nbconvert_exporter": "python",
   "pygments_lexer": "ipython3",
   "version": "3.11.2"
  }
 },
 "nbformat": 4,
 "nbformat_minor": 2
}
