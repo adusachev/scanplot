{
 "cells": [
  {
   "cell_type": "code",
   "execution_count": 1,
   "metadata": {},
   "outputs": [],
   "source": [
    "import os\n",
    "import numpy as np\n",
    "import matplotlib.pyplot as plt\n",
    "from collections import defaultdict\n",
    "import cv2 as cv\n",
    "# from scipy.ndimage.filters import sobel\n",
    "from scipy.ndimage import sobel\n",
    "\n",
    "import pathlib\n",
    "from dotenv import load_dotenv\n",
    "\n",
    "from ipywidgets import interact, widgets\n",
    "from plotly.express import imshow as imshow_interactive\n",
    "from tqdm.notebook import tqdm"
   ]
  },
  {
   "cell_type": "code",
   "execution_count": 2,
   "metadata": {},
   "outputs": [],
   "source": [
    "import numpy_indexed as npi"
   ]
  },
  {
   "cell_type": "code",
   "execution_count": 3,
   "metadata": {},
   "outputs": [],
   "source": [
    "from template_match import read_image_rgb, read_image_gray, template_match, detect_points, find_tolerance_limit, simplify_points, agglomerative_clustering, meanshift_clustering, invert_convolution_map, point_to_bbox, \\\n",
    "    replace_black_pixels\n",
    "\n",
    "from process_template import template_tresholding, reconstruct_template_mask, crop_image\n",
    "\n",
    "from hough_transform import calc_gradients, build_hough_model, fill_accumulator, \\\n",
    "    normalize_map, get_first_N_maximums\n",
    "\n",
    "from utils import remove_nan_inf"
   ]
  },
  {
   "cell_type": "code",
   "execution_count": 4,
   "metadata": {},
   "outputs": [],
   "source": [
    "def draw_image(image: np.ndarray) -> None:\n",
    "    plt.imshow(cv.cvtColor(image, cv.COLOR_BGR2RGB))\n",
    "\n",
    "\n",
    "def draw_points_on_canvas(points: np.ndarray, image: np.ndarray) -> None:\n",
    "    x = points[:, 0]\n",
    "    y = points[:, 1]\n",
    "    \n",
    "    clear_canvas = image.copy()\n",
    "    clear_canvas[:, :] = 255\n",
    "    plt.scatter(x, y, alpha=0.5, s=5)\n",
    "    plt.imshow(cv.cvtColor(clear_canvas, cv.COLOR_BGR2RGB))"
   ]
  },
  {
   "cell_type": "code",
   "execution_count": 5,
   "metadata": {},
   "outputs": [],
   "source": [
    "\n",
    "from matplotlib.patches import Rectangle\n",
    "\n",
    "def draw_bbox(x_min, x_max, y_min, y_max, bbox_center=None) -> None:\n",
    "    height = y_max - y_min\n",
    "    width = x_max - x_min\n",
    "    rect = Rectangle((x_min, y_min), width, height, edgecolor='r', facecolor='none')\n",
    "    ax = plt.gca()\n",
    "    ax.add_patch(rect)\n",
    "\n",
    "    if bbox_center:\n",
    "        bbox_center_x, bbox_center_y = bbox_center\n",
    "        plt.scatter([bbox_center_x], [bbox_center_y], marker=\"*\")"
   ]
  },
  {
   "cell_type": "code",
   "execution_count": 6,
   "metadata": {},
   "outputs": [],
   "source": [
    "BASE_DIR = pathlib.Path(__name__).resolve().parent.parent\n",
    "load_dotenv(BASE_DIR / '.env')\n",
    "DATA_PATH = pathlib.Path(os.getenv(\"DATA_PATH\"))"
   ]
  },
  {
   "cell_type": "markdown",
   "metadata": {},
   "source": [
    "## Convolution implementation"
   ]
  },
  {
   "cell_type": "code",
   "execution_count": 7,
   "metadata": {},
   "outputs": [],
   "source": [
    "def get_image_part(y: int, x: int, image: np.ndarray, w: int, h: int):\n",
    "    return image[y : y+h, x : x+w]\n",
    "\n",
    "def sqdiff(image_part: np.ndarray, template: np.ndarray):\n",
    "    sqdiff_sum = np.sum((image_part.astype(np.float64) - template.astype(np.float64))**2)\n",
    "    return sqdiff_sum\n",
    "\n",
    "\n",
    "def compute_mask_pixel_ratio(image_part: np.ndarray, template_mask: np.ndarray, image_mask_value: float):\n",
    "    \n",
    "    image_mask_indexes = np.where((image_part[:, :, 0] == image_mask_value) & (image_part[:, :, 1] == image_mask_value) & (image_part[:, :, 2] == image_mask_value))\n",
    "    template_non_mask_indexes = np.where(template_mask != 0)\n",
    "\n",
    "    x, y = image_mask_indexes\n",
    "    image_part_mask_pixel_coords = np.stack((x, y)).T\n",
    "\n",
    "    x1, y1 = template_non_mask_indexes\n",
    "    template_non_mask_pixel_coords = np.stack((x1, y1)).T\n",
    "\n",
    "    true_mask_pixel_coords = npi.intersection(\n",
    "        image_part_mask_pixel_coords,\n",
    "        template_non_mask_pixel_coords\n",
    "    )\n",
    "\n",
    "    mask_pixel_ratio = len(true_mask_pixel_coords) / len(template_non_mask_pixel_coords)\n",
    "    \n",
    "    return mask_pixel_ratio\n",
    "\n",
    "\n",
    "def compute_mask_pixel_ratio_v2(\n",
    "    image_mask_part_binary: np.ndarray,\n",
    "    template_mask_binary: np.ndarray,\n",
    "    template_non_mask_pixels_count: int\n",
    ") -> float:\n",
    "    \"\"\"\n",
    "    Return count of non mask pixels of \n",
    "    \"\"\"\n",
    "    return np.sum(image_mask_part_binary * template_mask_binary) / template_non_mask_pixels_count\n",
    "\n",
    "\n",
    "\n",
    "def sqdiff_normed_modification(\n",
    "    image_part: np.ndarray,\n",
    "    template: np.ndarray, \n",
    "    template_mask_rgb: np.ndarray,\n",
    "    image_mask_part_binary: np.ndarray,\n",
    "    template_mask_binary: np.ndarray,\n",
    "    template_non_mask_pixels_count: int,\n",
    "    ratio_treshold: float = 0.5\n",
    ") -> float:\n",
    "    \"\"\"\n",
    "    SQDIFF_NORMED modification\n",
    "    \"\"\"\n",
    "    mask_pixel_ratio = compute_mask_pixel_ratio_v2(\n",
    "        image_mask_part_binary, \n",
    "        template_mask_binary,\n",
    "        template_non_mask_pixels_count\n",
    "    )\n",
    "    if mask_pixel_ratio < ratio_treshold:\n",
    "        return np.nan\n",
    "\n",
    "    sqdiff = np.sum( ((template - image_part) * template_mask_rgb)**2 )\n",
    "    norm1 = np.sum( (template * template_mask_rgb)**2 )\n",
    "    norm2 = np.sum( (image_part * template_mask_rgb)**2 )\n",
    "\n",
    "    sqdiff_normed = sqdiff / np.sqrt(norm1 * norm2)\n",
    "\n",
    "    return sqdiff_normed\n",
    "\n",
    "\n",
    "def sqdiff_normed(image_part: np.ndarray, template: np.ndarray, template_mask: np.ndarray) -> float:\n",
    "    \"\"\"\n",
    "    OpenCV SQDIFF_NORMED implementation\n",
    "    \"\"\"\n",
    "    # image_part = image_part.astype(np.float64)\n",
    "    # template = template.astype(np.float64)\n",
    "    # mask = mask.astype(np.float64)\n",
    "\n",
    "    sqdiff = np.sum( ((template - image_part) * template_mask)**2 )\n",
    "    norm1 = np.sum( (template * template_mask)**2 )\n",
    "    norm2 = np.sum( (image_part * template_mask)**2 )\n",
    "\n",
    "    sqdiff_normed = sqdiff / np.sqrt(norm1 * norm2)\n",
    "\n",
    "    return sqdiff_normed\n",
    "\n",
    "\n",
    "\n",
    "def cv_sqdiff_normed(image_part: np.ndarray, template: np.ndarray, mask: np.ndarray):\n",
    "\n",
    "    sqdiff = cv.matchTemplate(image_part, template, cv.TM_SQDIFF_NORMED, mask=mask)\n",
    "    return sqdiff"
   ]
  },
  {
   "cell_type": "markdown",
   "metadata": {},
   "source": [
    "## Pipeline 1 (corr map from OpenCV + postprocessing)"
   ]
  },
  {
   "cell_type": "code",
   "execution_count": 8,
   "metadata": {},
   "outputs": [],
   "source": [
    "PLOT_NUMBER = 48\n",
    "MARKER_NUMBER = 2\n",
    "\n",
    "PLOT_PATH = DATA_PATH / f\"plot{PLOT_NUMBER}.png\"\n",
    "TEMPLATE_PATH = DATA_PATH / \"markers_same_shape\" / f\"plot{PLOT_NUMBER}_marker{MARKER_NUMBER}.png\""
   ]
  },
  {
   "cell_type": "code",
   "execution_count": 9,
   "metadata": {},
   "outputs": [],
   "source": [
    "source_image = read_image_rgb(PLOT_PATH)\n",
    "template_rgb = read_image_rgb(TEMPLATE_PATH)"
   ]
  },
  {
   "cell_type": "code",
   "execution_count": 10,
   "metadata": {},
   "outputs": [
    {
     "data": {
      "text/plain": [
       "(1242, 1254)"
      ]
     },
     "execution_count": 10,
     "metadata": {},
     "output_type": "execute_result"
    }
   ],
   "source": [
    "h_image, w_image = source_image.shape[0], source_image.shape[1]\n",
    "h_template, w_template = template_rgb.shape[0], template_rgb.shape[1]\n",
    "\n",
    "h_image, w_image"
   ]
  },
  {
   "cell_type": "code",
   "execution_count": 11,
   "metadata": {},
   "outputs": [
    {
     "data": {
      "text/plain": [
       "([], [])"
      ]
     },
     "execution_count": 11,
     "metadata": {},
     "output_type": "execute_result"
    },
    {
     "data": {
      "image/png": "[encoded data removed]",
      "text/plain": [
       "<Figure size 640x480 with 2 Axes>"
      ]
     },
     "metadata": {},
     "output_type": "display_data"
    }
   ],
   "source": [
    "plt.subplot(1, 2, 1)\n",
    "draw_image(source_image)\n",
    "plt.xticks([]); plt.yticks([])\n",
    "\n",
    "plt.subplot(1, 2, 2)\n",
    "draw_image(template_rgb)\n",
    "plt.xticks([]); plt.yticks([])"
   ]
  },
  {
   "cell_type": "code",
   "execution_count": 12,
   "metadata": {},
   "outputs": [
    {
     "data": {
      "text/plain": [
       "([], [])"
      ]
     },
     "execution_count": 12,
     "metadata": {},
     "output_type": "execute_result"
    },
    {
     "data": {
      "image/png": "[encoded data removed]",
      "text/plain": [
       "<Figure size 640x480 with 2 Axes>"
      ]
     },
     "metadata": {},
     "output_type": "display_data"
    }
   ],
   "source": [
    "TRESHOLD_VALUE = 230\n",
    "template_mask = template_tresholding(template_rgb, TRESHOLD_VALUE)\n",
    "new_template_mask = reconstruct_template_mask(template_mask)\n",
    "\n",
    "fig = plt.figure()\n",
    "plt.subplot(1, 2, 1)\n",
    "draw_image(template_mask)\n",
    "plt.xticks([]); plt.yticks([])\n",
    "\n",
    "plt.subplot(1, 2, 2)\n",
    "draw_image(new_template_mask)\n",
    "plt.xticks([]); plt.yticks([])"
   ]
  },
  {
   "cell_type": "markdown",
   "metadata": {},
   "source": [
    "**Replace black pixels**"
   ]
  },
  {
   "cell_type": "code",
   "execution_count": 13,
   "metadata": {},
   "outputs": [
    {
     "name": "stderr",
     "output_type": "stream",
     "text": [
      "DEBUG - template_match.py - replace_black_pixels: Number of black pixels on image: 29662\n",
      "DEBUG - template_match.py - replace_black_pixels: Number of black pixels on image: 529\n"
     ]
    }
   ],
   "source": [
    "image = replace_black_pixels(source_image)\n",
    "template = replace_black_pixels(template_rgb)"
   ]
  },
  {
   "cell_type": "markdown",
   "metadata": {},
   "source": [
    "**Image tresholding**"
   ]
  },
  {
   "cell_type": "code",
   "execution_count": 14,
   "metadata": {},
   "outputs": [],
   "source": [
    "MASK_VALUE = 0\n",
    "image_mask = template_tresholding(image, treshold=TRESHOLD_VALUE)\n",
    "indexes_background = np.where(image_mask == 0)\n",
    "image_with_mask = np.copy(image)\n",
    "image_with_mask[indexes_background] = MASK_VALUE"
   ]
  },
  {
   "cell_type": "markdown",
   "metadata": {},
   "source": [
    "**Binary masks**"
   ]
  },
  {
   "cell_type": "code",
   "execution_count": 15,
   "metadata": {},
   "outputs": [],
   "source": [
    "assert np.all(np.unique(template_mask) == np.array([0, 255]))\n",
    "assert np.all(np.unique(image_mask) == np.array([0, 255]))\n",
    "assert len(template_mask.shape) == 2\n",
    "assert len(image_mask.shape) == 2\n",
    "\n",
    "template_mask_binary = template_mask / 255\n",
    "image_mask_binary = image_mask / 255\n",
    "\n",
    "template_non_mask_pixels_count = np.sum(template_mask_binary)"
   ]
  },
  {
   "cell_type": "markdown",
   "metadata": {},
   "source": [
    "**OpenCV template matching**"
   ]
  },
  {
   "cell_type": "code",
   "execution_count": 16,
   "metadata": {},
   "outputs": [
    {
     "name": "stderr",
     "output_type": "stream",
     "text": [
      "DEBUG - template_match.py - template_match: Convolution map bounds: (0.0, 11.632259)\n",
      "DEBUG - template_match.py - template_match: Convolution map was inverted\n",
      "DEBUG - template_match.py - template_match: Convolution map bounds: (0.0, 11.632259)\n",
      "DEBUG - template_match.py - template_match: Convolution map was inverted\n"
     ]
    }
   ],
   "source": [
    "method_name = 'SQDIFF_MODIFICATION_V2'\n",
    "method = \"cv.TM_SQDIFF_NORMED\"\n",
    "\n",
    "convolution_map, _ = template_match(image, template, template_mask, method)\n",
    "convolution_map2, _ = template_match(image, template, new_template_mask, method)"
   ]
  },
  {
   "cell_type": "markdown",
   "metadata": {},
   "source": [
    "**Experimental feature: combine template matching and Hough transform**"
   ]
  },
  {
   "cell_type": "code",
   "execution_count": 17,
   "metadata": {},
   "outputs": [],
   "source": [
    "# ## Hough transfrom\n",
    "# hough_model = build_hough_model(template_rgb)\n",
    "# accumulator = fill_accumulator(hough_model, source_image)\n",
    "# accumulator_normed = normalize_map(accumulator)\n",
    "\n",
    "# # (подгон) ((но работает))\n",
    "# # обрезаем аккумулятор так, чтобы его размер был равен размеру корреляционной карты\n",
    "# x_min = w_template // 2\n",
    "# y_min = h_template // 2\n",
    "# if w_template % 2 == 0:\n",
    "#     x_max = accumulator_normed.shape[1] - w_template // 2\n",
    "# else:\n",
    "#     x_max = accumulator_normed.shape[1] - w_template // 2 - 1\n",
    "\n",
    "# if h_template % 2 == 0:\n",
    "#     y_max = accumulator_normed.shape[0] - h_template // 2\n",
    "# else:\n",
    "#     y_max = accumulator_normed.shape[0] - h_template // 2 - 1\n",
    "\n",
    "# accumulator_normed_cropped = crop_image(accumulator_normed, bbox=(x_min, x_max, y_min, y_max))\n",
    "\n",
    "# convolution_map_normed = normalize_map(convolution_map)\n",
    "\n",
    "# assert convolution_map_normed.shape == accumulator_normed_cropped.shape\n",
    "\n",
    "# convolution_map4 = convolution_map_normed + accumulator_normed_cropped"
   ]
  },
  {
   "cell_type": "code",
   "execution_count": 18,
   "metadata": {},
   "outputs": [],
   "source": [
    "convolution_map = normalize_map(convolution_map)\n",
    "convolution_map2 = normalize_map(convolution_map2)"
   ]
  },
  {
   "cell_type": "code",
   "execution_count": 19,
   "metadata": {},
   "outputs": [],
   "source": [
    "convolution_map3 = convolution_map + 0.7 * convolution_map2\n",
    "convolution_map3 = normalize_map(convolution_map3)"
   ]
  },
  {
   "cell_type": "code",
   "execution_count": 20,
   "metadata": {},
   "outputs": [],
   "source": [
    "# # RATIO_TRESHOLD = 0.6\n",
    "# ALPHA = 1  # чем больше, тем сильнее штрафуем за наезд шаблона на маску изображения\n",
    "\n",
    "# corr_map_height = h_image - h_template + 1\n",
    "# corr_map_width = w_image - w_template + 1\n",
    "# convolution_map_postprocess = np.copy(convolution_map3)\n",
    "# ratios = np.zeros_like(convolution_map3)\n",
    "\n",
    "# for y in tqdm(range(corr_map_height)):\n",
    "#     for x in range(corr_map_width):\n",
    "#         image_mask_part_binary = get_image_part(y, x, image_mask_binary, w_template, h_template)\n",
    "\n",
    "#         mask_pixel_ratio = compute_mask_pixel_ratio_v2(\n",
    "#             image_mask_part_binary, \n",
    "#             template_mask_binary,\n",
    "#             template_non_mask_pixels_count\n",
    "#         )\n",
    "#         if mask_pixel_ratio > 0.9:\n",
    "#             mask_pixel_ratio = 1\n",
    "#         convolution_map_postprocess[y, x] *= (mask_pixel_ratio**ALPHA)\n",
    "#         # ratios[y, x] = mask_pixel_ratio\n",
    "#         # if mask_pixel_ratio < RATIO_TRESHOLD:\n",
    "#         #     convolution_map_postprocess[y, x] = np.nan"
   ]
  },
  {
   "cell_type": "code",
   "execution_count": 21,
   "metadata": {},
   "outputs": [],
   "source": [
    "## SPEEDUP!!\n",
    "image_mask_binary = image_mask_binary.astype(np.uint8)\n",
    "template_mask_binary = template_mask_binary.astype(np.uint8)\n",
    "\n",
    "ratios, _ = template_match(\n",
    "    image=image_mask_binary,\n",
    "    template=template_mask_binary,\n",
    "    template_mask=None,\n",
    "    method_name=\"cv.TM_CCORR\"\n",
    ")\n",
    "ratios = ratios / template_non_mask_pixels_count\n",
    "\n",
    "big_ratio_indexes = np.where(ratios > 0.9)\n",
    "ratios[big_ratio_indexes] = 1\n",
    "\n",
    "ALPHA = 1\n",
    "convolution_map_postprocess = convolution_map3 * (ratios**ALPHA)"
   ]
  },
  {
   "cell_type": "code",
   "execution_count": 22,
   "metadata": {},
   "outputs": [
    {
     "name": "stderr",
     "output_type": "stream",
     "text": [
      "DEBUG - utils.py - remove_nan_inf: Number of NaN values: 0\n",
      "DEBUG - utils.py - remove_nan_inf: Number of inf values: 0\n"
     ]
    }
   ],
   "source": [
    "convolution_map_final = remove_nan_inf(convolution_map_postprocess)"
   ]
  },
  {
   "cell_type": "code",
   "execution_count": 23,
   "metadata": {},
   "outputs": [],
   "source": [
    "# imshow_interactive(convolution_map3, width=800, height=700)"
   ]
  },
  {
   "cell_type": "code",
   "execution_count": 24,
   "metadata": {},
   "outputs": [],
   "source": [
    "# fig = imshow_interactive(convolution_map_final, width=800, height=700)\n",
    "# fig"
   ]
  },
  {
   "cell_type": "code",
   "execution_count": 25,
   "metadata": {},
   "outputs": [],
   "source": [
    "# fig.write_image(\n",
    "#     DATA_PATH / \"results\" / \"correlation_maps_png\" / f\"corr_map_plot{PLOT_NUMBER}_marker{MARKER_NUMBER}_{method_name}.png\",\n",
    "#     scale=2\n",
    "# )\n",
    "\n",
    "# fig.write_html(\n",
    "#     DATA_PATH / \"results\" / \"correlation_maps_html\" / f\"corr_map_plot{PLOT_NUMBER}_marker{MARKER_NUMBER}_{method_name}.html\",\n",
    "# )"
   ]
  },
  {
   "cell_type": "code",
   "execution_count": null,
   "metadata": {},
   "outputs": [],
   "source": []
  },
  {
   "cell_type": "code",
   "execution_count": 26,
   "metadata": {},
   "outputs": [
    {
     "data": {
      "application/vnd.jupyter.widget-view+json": {
       "model_id": "ca3da000a7e543b89e041d61a2c0b043",
       "version_major": 2,
       "version_minor": 0
      },
      "text/plain": [
       "interactive(children=(FloatSlider(value=1.0, description='N_maximums', max=3000.0, min=1.0, step=1.0), FloatSl…"
      ]
     },
     "metadata": {},
     "output_type": "display_data"
    }
   ],
   "source": [
    "MAXIMUMS_NUMBER_LIMIT = 3000\n",
    "\n",
    "\n",
    "@interact(N_maximums=widgets.FloatSlider(value=1, min=1, max=MAXIMUMS_NUMBER_LIMIT, step=1),\n",
    "          eps=widgets.FloatSlider(value=0.1, min=0.1, max=10, step=0.1))\n",
    "def visualize(N_maximums, eps):\n",
    "\n",
    "    ## get max points\n",
    "    N_maximums = int(N_maximums)\n",
    "    maximums = get_first_N_maximums(convolution_map_final, N_maximums)\n",
    "    # maximums = get_first_N_maximums(convolution_map3, N_maximums)\n",
    "    y_points = np.array( [pt[1][0] for pt in maximums] )\n",
    "    x_points = np.array( [pt[1][1] for pt in maximums] )\n",
    "    points = np.stack((x_points, y_points)).T\n",
    "\n",
    "    ## clustering\n",
    "    cluster_labels = meanshift_clustering(points, eps)\n",
    "    # cluster_labels = agglomerative_clustering(points, eps)\n",
    "    actual_points = simplify_points(points, cluster_labels)\n",
    "    x = actual_points[:, 0]\n",
    "    y = actual_points[:, 1]\n",
    "\n",
    "    ## founded points on original image\n",
    "    plt.figure(figsize=(9, 9))\n",
    "    draw_image(source_image)\n",
    "    x += w_template // 2\n",
    "    y += h_template // 2\n",
    "    plt.scatter(x, y, s=30, c=\"yellow\", marker=\"*\",  edgecolors='black', linewidths=0.2)\n",
    "    # plt.xticks([]); plt.yticks([]);\n",
    "    plt.title(f\"{N_maximums=}\")\n",
    "    plt.show()\n",
    "    \n",
    "    ## founded points on clear canvas\n",
    "    plt.figure(figsize=(10, 6))\n",
    "    draw_points_on_canvas(actual_points, source_image)"
   ]
  },
  {
   "cell_type": "markdown",
   "metadata": {},
   "source": [
    "**Save best result**"
   ]
  },
  {
   "cell_type": "code",
   "execution_count": 64,
   "metadata": {},
   "outputs": [
    {
     "data": {
      "image/png": "[encoded data removed]",
      "text/plain": [
       "<Figure size 1400x1400 with 1 Axes>"
      ]
     },
     "metadata": {},
     "output_type": "display_data"
    }
   ],
   "source": [
    "N_maximums = 230\n",
    "eps = 2\n",
    "\n",
    "## get max points\n",
    "maximums = get_first_N_maximums(convolution_map_final, N_maximums)\n",
    "# maximums = get_first_N_maximums(convolution_map3, N_maximums)\n",
    "y_points = np.array( [pt[1][0] for pt in maximums] )\n",
    "x_points = np.array( [pt[1][1] for pt in maximums] )\n",
    "points = np.stack((x_points, y_points)).T\n",
    "\n",
    "## clustering\n",
    "cluster_labels = meanshift_clustering(points, eps)\n",
    "# cluster_labels = agglomerative_clustering(points, eps)\n",
    "actual_points = simplify_points(points, cluster_labels)\n",
    "x = actual_points[:, 0]\n",
    "y = actual_points[:, 1]\n",
    "\n",
    "## founded points on original image\n",
    "fig2 = plt.figure(figsize=(14, 14))\n",
    "draw_image(source_image)\n",
    "x += w_template // 2\n",
    "y += h_template // 2\n",
    "plt.scatter(x, y, s=100, c=\"yellow\", marker=\"*\",  edgecolors='black', linewidths=0.4)\n",
    "plt.xticks([]); plt.yticks([]);\n",
    "plt.title(f\"{N_maximums=}, {eps=}, mask_treshold = {TRESHOLD_VALUE}, method = {method_name}\")\n",
    "plt.show()\n",
    "\n",
    "# ## founded points on clear canvas\n",
    "# plt.figure(figsize=(10, 6))\n",
    "# draw_points_on_canvas(actual_points, source_image)"
   ]
  },
  {
   "cell_type": "code",
   "execution_count": 65,
   "metadata": {},
   "outputs": [],
   "source": [
    "fig2.savefig(\n",
    "    DATA_PATH / \"results\" / \"detected_points_png\" / f\"detection_plot{PLOT_NUMBER}_marker{MARKER_NUMBER}_{method_name}.png\",\n",
    ")\n",
    "\n",
    "np.savetxt(\n",
    "    DATA_PATH / \"results\" / \"coordinates_detected_csv\" / f\"coords_plot{PLOT_NUMBER}_marker{MARKER_NUMBER}_{method_name}.csv\",\n",
    "    actual_points,\n",
    "    delimiter=\",\"\n",
    ")"
   ]
  },
  {
   "cell_type": "code",
   "execution_count": null,
   "metadata": {},
   "outputs": [],
   "source": []
  },
  {
   "cell_type": "code",
   "execution_count": null,
   "metadata": {},
   "outputs": [],
   "source": []
  },
  {
   "cell_type": "markdown",
   "metadata": {},
   "source": [
    "## Pipeline 2 (corr map from strach)"
   ]
  },
  {
   "cell_type": "code",
   "execution_count": 272,
   "metadata": {},
   "outputs": [],
   "source": [
    "PLOT_NUMBER = 31\n",
    "MARKER_NUMBER = 3\n",
    "\n",
    "PLOT_PATH = DATA_PATH / f\"plot{PLOT_NUMBER}.png\"\n",
    "TEMPLATE_PATH = DATA_PATH / \"markers_same_shape\" / f\"plot{PLOT_NUMBER}_marker{MARKER_NUMBER}.png\""
   ]
  },
  {
   "cell_type": "code",
   "execution_count": 273,
   "metadata": {},
   "outputs": [],
   "source": [
    "source_image = read_image_rgb(PLOT_PATH)\n",
    "template_rgb = read_image_rgb(TEMPLATE_PATH)"
   ]
  },
  {
   "cell_type": "code",
   "execution_count": 274,
   "metadata": {},
   "outputs": [
    {
     "data": {
      "text/plain": [
       "(435, 553)"
      ]
     },
     "execution_count": 274,
     "metadata": {},
     "output_type": "execute_result"
    }
   ],
   "source": [
    "h_image, w_image = source_image.shape[0], source_image.shape[1]\n",
    "h_template, w_template = template_rgb.shape[0], template_rgb.shape[1]\n",
    "\n",
    "h_image, w_image"
   ]
  },
  {
   "cell_type": "code",
   "execution_count": 275,
   "metadata": {},
   "outputs": [
    {
     "data": {
      "image/png": "[encoded data removed]",
      "text/plain": [
       "<Figure size 640x480 with 2 Axes>"
      ]
     },
     "metadata": {},
     "output_type": "display_data"
    }
   ],
   "source": [
    "plt.subplot(1, 2, 1)\n",
    "draw_image(source_image)\n",
    "\n",
    "plt.subplot(1, 2, 2)\n",
    "draw_image(template_rgb)"
   ]
  },
  {
   "cell_type": "code",
   "execution_count": 276,
   "metadata": {},
   "outputs": [
    {
     "data": {
      "text/plain": [
       "([], [])"
      ]
     },
     "execution_count": 276,
     "metadata": {},
     "output_type": "execute_result"
    },
    {
     "data": {
      "image/png": "[encoded data removed]",
      "text/plain": [
       "<Figure size 640x480 with 2 Axes>"
      ]
     },
     "metadata": {},
     "output_type": "display_data"
    }
   ],
   "source": [
    "TRESHOLD_VALUE = 230\n",
    "template_mask = template_tresholding(template_rgb, TRESHOLD_VALUE)\n",
    "new_template_mask = reconstruct_template_mask(template_mask)\n",
    "\n",
    "template_mask_rgb = np.zeros((template_mask.shape[0], template_mask.shape[1], 3))\n",
    "template_mask_rgb[:, :, 0] = template_mask\n",
    "template_mask_rgb[:, :, 1] = template_mask\n",
    "template_mask_rgb[:, :, 2] = template_mask\n",
    "\n",
    "new_template_mask_rgb = np.zeros((new_template_mask.shape[0], new_template_mask.shape[1], 3))\n",
    "new_template_mask_rgb[:, :, 0] = new_template_mask\n",
    "new_template_mask_rgb[:, :, 1] = new_template_mask\n",
    "new_template_mask_rgb[:, :, 2] = new_template_mask\n",
    "\n",
    "fig = plt.figure()\n",
    "plt.subplot(1, 2, 1)\n",
    "draw_image(template_mask)\n",
    "plt.xticks([]); plt.yticks([])\n",
    "\n",
    "plt.subplot(1, 2, 2)\n",
    "draw_image(new_template_mask)\n",
    "plt.xticks([]); plt.yticks([])"
   ]
  },
  {
   "cell_type": "markdown",
   "metadata": {},
   "source": [
    "**Replace black pixels**"
   ]
  },
  {
   "cell_type": "code",
   "execution_count": 277,
   "metadata": {},
   "outputs": [
    {
     "name": "stderr",
     "output_type": "stream",
     "text": [
      "DEBUG - template_match.py - replace_black_pixels: Number of black pixels on image: 3487\n",
      "DEBUG - template_match.py - replace_black_pixels: Number of black pixels on image: 6\n"
     ]
    }
   ],
   "source": [
    "image = replace_black_pixels(source_image)\n",
    "template = replace_black_pixels(template_rgb)"
   ]
  },
  {
   "cell_type": "markdown",
   "metadata": {},
   "source": [
    "**Image tresholding**"
   ]
  },
  {
   "cell_type": "code",
   "execution_count": 278,
   "metadata": {},
   "outputs": [],
   "source": [
    "MASK_VALUE = 0\n",
    "\n",
    "image_mask = template_tresholding(image, treshold=TRESHOLD_VALUE)\n",
    "indexes_background = np.where(image_mask == 0)\n",
    "image_with_mask = np.copy(image)\n",
    "image_with_mask[indexes_background] = MASK_VALUE"
   ]
  },
  {
   "cell_type": "code",
   "execution_count": 279,
   "metadata": {},
   "outputs": [
    {
     "data": {
      "text/plain": [
       "<matplotlib.image.AxesImage at 0x7f6cfd9702d0>"
      ]
     },
     "execution_count": 279,
     "metadata": {},
     "output_type": "execute_result"
    },
    {
     "data": {
      "image/png": "[encoded data removed]",
      "text/plain": [
       "<Figure size 640x480 with 1 Axes>"
      ]
     },
     "metadata": {},
     "output_type": "display_data"
    }
   ],
   "source": [
    "plt.imshow(image_with_mask)"
   ]
  },
  {
   "cell_type": "markdown",
   "metadata": {},
   "source": [
    "**Binary masks**"
   ]
  },
  {
   "cell_type": "code",
   "execution_count": 280,
   "metadata": {},
   "outputs": [],
   "source": [
    "assert np.all(np.unique(template_mask) == np.array([0, 255]))\n",
    "assert np.all(np.unique(image_mask) == np.array([0, 255]))\n",
    "assert len(template_mask.shape) == 2\n",
    "assert len(image_mask.shape) == 2\n",
    "\n",
    "template_mask_binary = template_mask / 255\n",
    "image_mask_binary = image_mask / 255\n",
    "\n",
    "template_non_mask_pixels_count = np.sum(template_mask_binary)"
   ]
  },
  {
   "cell_type": "code",
   "execution_count": 281,
   "metadata": {},
   "outputs": [],
   "source": [
    "# imshow_interactive(image_mask_binary)"
   ]
  },
  {
   "cell_type": "code",
   "execution_count": 282,
   "metadata": {},
   "outputs": [],
   "source": [
    "# mask_part = get_image_part(304, 434, image_mask_binary, w_template, h_template)\n",
    "# imshow_interactive(mask_part)"
   ]
  },
  {
   "cell_type": "code",
   "execution_count": 283,
   "metadata": {},
   "outputs": [],
   "source": [
    "# imshow_interactive(template_mask_binary)"
   ]
  },
  {
   "cell_type": "code",
   "execution_count": 284,
   "metadata": {},
   "outputs": [],
   "source": [
    "# imshow_interactive(mask_part * template_mask_binary)"
   ]
  },
  {
   "cell_type": "code",
   "execution_count": 285,
   "metadata": {},
   "outputs": [],
   "source": [
    "# compute_mask_pixel_ratio_v2(mask_part, template_mask_binary, np.sum(template_mask_binary))"
   ]
  },
  {
   "cell_type": "code",
   "execution_count": 286,
   "metadata": {},
   "outputs": [],
   "source": [
    "# # method_name = 'SOME_CUSTOM_METHOD'\n",
    "# method = \"cv.TM_SQDIFF_NORMED\"\n",
    "\n",
    "# corr_map, _ = template_match(image, template_rgb, template_mask, method)\n",
    "# corr_map2, _ = template_match(image, template_rgb, new_template_mask, method)\n",
    "\n",
    "# corr_map3 = corr_map + 0.5 * corr_map2"
   ]
  },
  {
   "cell_type": "code",
   "execution_count": 302,
   "metadata": {},
   "outputs": [
    {
     "data": {
      "application/vnd.jupyter.widget-view+json": {
       "model_id": "6ea00d15a5cd4565a1b0706811ccda66",
       "version_major": 2,
       "version_minor": 0
      },
      "text/plain": [
       "  0%|          | 0/405 [00:00<?, ?it/s]"
      ]
     },
     "metadata": {},
     "output_type": "display_data"
    }
   ],
   "source": [
    "# method_name = \"CUSTOM_SQDIFF\"\n",
    "\n",
    "corr_map_height = h_image - h_template + 1\n",
    "corr_map_width = w_image - w_template + 1\n",
    "corr_map = np.zeros((corr_map_height, corr_map_width), dtype=np.float64)\n",
    "\n",
    "image = image.astype(np.float64)\n",
    "template = template.astype(np.float64)\n",
    "template_mask_rgb = template_mask_rgb.astype(np.float64)\n",
    "\n",
    "for y in tqdm(range(corr_map_height)):\n",
    "    for x in range(corr_map_width):\n",
    "        image_part = get_image_part(y, x, image, w_template, h_template)\n",
    "        image_mask_part_binary = get_image_part(y, x, image_mask_binary, w_template, h_template)\n",
    "\n",
    "        # corr_value = sqdiff_normed(image_part, template, template_mask_rgb)\n",
    "        corr_value = sqdiff_normed_modification(\n",
    "            image_part,\n",
    "            template,\n",
    "            template_mask_rgb,\n",
    "            image_mask_part_binary,\n",
    "            template_mask_binary,\n",
    "            template_non_mask_pixels_count,\n",
    "            ratio_treshold=0.8\n",
    "        )\n",
    "        corr_map[y, x] = corr_value"
   ]
  },
  {
   "cell_type": "code",
   "execution_count": 303,
   "metadata": {},
   "outputs": [],
   "source": [
    "assert not np.any(np.isinf(corr_map)), \"There are INF alues on map\""
   ]
  },
  {
   "cell_type": "code",
   "execution_count": 304,
   "metadata": {},
   "outputs": [],
   "source": [
    "corr_map2 = np.copy(corr_map)\n",
    "corr_map2 = invert_convolution_map(corr_map2)\n",
    "corr_map2 = normalize_map(corr_map2)"
   ]
  },
  {
   "cell_type": "code",
   "execution_count": 640,
   "metadata": {},
   "outputs": [],
   "source": [
    "# imshow_interactive(corr_map2)"
   ]
  },
  {
   "cell_type": "code",
   "execution_count": 306,
   "metadata": {},
   "outputs": [
    {
     "data": {
      "application/vnd.jupyter.widget-view+json": {
       "model_id": "819023991ef3494590bf31c2115a1423",
       "version_major": 2,
       "version_minor": 0
      },
      "text/plain": [
       "  0%|          | 0/405 [00:00<?, ?it/s]"
      ]
     },
     "metadata": {},
     "output_type": "display_data"
    }
   ],
   "source": [
    "# method_name = \"CUSTOM_SQDIFF\"\n",
    "\n",
    "corr_map_second_mask = np.zeros((corr_map_height, corr_map_width), dtype=np.float64)\n",
    "\n",
    "image = image.astype(np.float64)\n",
    "template = template.astype(np.float64)\n",
    "new_template_mask_rgb = new_template_mask_rgb.astype(np.float64)\n",
    "\n",
    "for y in tqdm(range(corr_map_height)):\n",
    "    for x in range(corr_map_width):\n",
    "        image_part = get_image_part(y, x, image, w_template, h_template)\n",
    "\n",
    "        corr_value = sqdiff_normed(image_part, template, new_template_mask_rgb)\n",
    "        corr_map_second_mask[y, x] = corr_value"
   ]
  },
  {
   "cell_type": "code",
   "execution_count": 307,
   "metadata": {},
   "outputs": [],
   "source": [
    "assert not np.any(np.isinf(corr_map_second_mask)), \"There are INF alues on map\""
   ]
  },
  {
   "cell_type": "code",
   "execution_count": 308,
   "metadata": {},
   "outputs": [],
   "source": [
    "corr_map_second_mask2 = np.copy(corr_map_second_mask)\n",
    "corr_map_second_mask2 = invert_convolution_map(corr_map_second_mask2)\n",
    "corr_map_second_mask2 = normalize_map(corr_map_second_mask2)"
   ]
  },
  {
   "cell_type": "code",
   "execution_count": 309,
   "metadata": {},
   "outputs": [],
   "source": [
    "# imshow_interactive(corr_map_second_mask2)"
   ]
  },
  {
   "cell_type": "code",
   "execution_count": 310,
   "metadata": {},
   "outputs": [],
   "source": [
    "corr_map3 = corr_map2 + 0.5 * corr_map_second_mask2"
   ]
  },
  {
   "cell_type": "code",
   "execution_count": 313,
   "metadata": {},
   "outputs": [
    {
     "name": "stderr",
     "output_type": "stream",
     "text": [
      "DEBUG - utils.py - remove_nan_inf: Number of NaN values: 211265\n",
      "DEBUG - utils.py - remove_nan_inf: Number of inf values: 0\n"
     ]
    }
   ],
   "source": [
    "corr_map_final = remove_nan_inf(corr_map3)\n",
    "corr_map_final = normalize_map(corr_map_final)"
   ]
  },
  {
   "cell_type": "code",
   "execution_count": 641,
   "metadata": {},
   "outputs": [],
   "source": [
    "# imshow_interactive(corr_map_final)"
   ]
  },
  {
   "cell_type": "code",
   "execution_count": 248,
   "metadata": {},
   "outputs": [
    {
     "data": {
      "application/vnd.jupyter.widget-view+json": {
       "model_id": "8716fd20effc40728cd421b938b4f8cf",
       "version_major": 2,
       "version_minor": 0
      },
      "text/plain": [
       "interactive(children=(FloatSlider(value=1.0, description='N_maximums', max=200.0, min=1.0, step=1.0), FloatSli…"
      ]
     },
     "metadata": {},
     "output_type": "display_data"
    }
   ],
   "source": [
    "MAXIMUMS_NUMBER_LIMIT = 200\n",
    "\n",
    "\n",
    "@interact(N_maximums=widgets.FloatSlider(value=1, min=1, max=MAXIMUMS_NUMBER_LIMIT, step=1),\n",
    "          eps=widgets.FloatSlider(value=0.1, min=0.1, max=10, step=0.1))\n",
    "def visualize(N_maximums, eps):\n",
    "\n",
    "    ## get max points\n",
    "    N_maximums = int(N_maximums)\n",
    "    maximums = get_first_N_maximums(corr_map_final, N_maximums)\n",
    "    y_points = np.array( [pt[1][0] for pt in maximums] )\n",
    "    x_points = np.array( [pt[1][1] for pt in maximums] )\n",
    "    points = np.stack((x_points, y_points)).T\n",
    "\n",
    "    ## clustering\n",
    "    cluster_labels = meanshift_clustering(points, eps)\n",
    "    # cluster_labels = agglomerative_clustering(points, eps)\n",
    "    actual_points = simplify_points(points, cluster_labels)\n",
    "    x = actual_points[:, 0]\n",
    "    y = actual_points[:, 1]\n",
    "\n",
    "    ## founded points on original image\n",
    "    plt.figure(figsize=(9, 9))\n",
    "    draw_image(source_image)\n",
    "    x += w_template // 2\n",
    "    y += h_template // 2\n",
    "    plt.scatter(x, y, s=50, c=\"yellow\", marker=\"*\",  edgecolors='black', linewidths=0.2)\n",
    "    # plt.xticks([]); plt.yticks([]);\n",
    "    plt.title(f\"{N_maximums=}\")\n",
    "    plt.show()\n",
    "    \n",
    "    ## founded points on clear canvas\n",
    "    plt.figure(figsize=(10, 6))\n",
    "    draw_points_on_canvas(actual_points, source_image)"
   ]
  },
  {
   "cell_type": "code",
   "execution_count": null,
   "metadata": {},
   "outputs": [],
   "source": []
  }
 ],
 "metadata": {
  "kernelspec": {
   "display_name": "venv11",
   "language": "python",
   "name": "python3"
  },
  "language_info": {
   "codemirror_mode": {
    "name": "ipython",
    "version": 3
   },
   "file_extension": ".py",
   "mimetype": "text/x-python",
   "name": "python",
   "nbconvert_exporter": "python",
   "pygments_lexer": "ipython3",
   "version": "3.11.2"
  }
 },
 "nbformat": 4,
 "nbformat_minor": 2
}
