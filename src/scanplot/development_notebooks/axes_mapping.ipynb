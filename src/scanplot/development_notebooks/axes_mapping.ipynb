{
 "cells": [
  {
   "cell_type": "code",
   "execution_count": null,
   "metadata": {},
   "outputs": [],
   "source": [
    "import matplotlib.pyplot as plt\n",
    "import numpy as np\n",
    "import cv2 as cv\n",
    "\n",
    "from ipywidgets import interact, widgets, fixed\n",
    "import ipywidgets\n",
    "\n",
    "from matplotlib.patches import Rectangle"
   ]
  },
  {
   "cell_type": "code",
   "execution_count": null,
   "metadata": {},
   "outputs": [],
   "source": [
    "import sys\n",
    "import pathlib\n",
    "\n",
    "SRC_DIR = str(pathlib.Path(__name__).resolve().parent.parent)\n",
    "sys.path.append(SRC_DIR)"
   ]
  },
  {
   "cell_type": "code",
   "execution_count": null,
   "metadata": {},
   "outputs": [],
   "source": [
    "from scanplot.utils.drawing import draw_image\n",
    "from scanplot.utils.read_image import read_image_rgb"
   ]
  },
  {
   "cell_type": "code",
   "execution_count": null,
   "metadata": {},
   "outputs": [],
   "source": [
    "DATA_PATH = pathlib.Path(\"../../../sample_data/\")"
   ]
  },
  {
   "cell_type": "code",
   "execution_count": null,
   "metadata": {},
   "outputs": [],
   "source": [
    "PLOT_NUMBER = 59\n",
    "\n",
    "PLOT_PATH = DATA_PATH / \"plot_images\" / f\"plot{PLOT_NUMBER}.png\""
   ]
  },
  {
   "cell_type": "code",
   "execution_count": null,
   "metadata": {},
   "outputs": [],
   "source": [
    "image = read_image_rgb(PLOT_PATH)\n",
    "\n",
    "h_image, w_image = image.shape[0], image.shape[1]"
   ]
  },
  {
   "cell_type": "code",
   "execution_count": null,
   "metadata": {},
   "outputs": [],
   "source": [
    "x1_widget = ipywidgets.IntSlider(\n",
    "        value=10,\n",
    "        min=0,\n",
    "        max=w_image,\n",
    "        step=1,\n",
    "        description=\"X_1:\",\n",
    "        disabled=False,\n",
    "        continuous_update=True,\n",
    "        orientation=\"horizontal\",\n",
    "        readout=True,\n",
    "        readout_format=\"d\",\n",
    "        layout=ipywidgets.Layout(width=\"100%\"),\n",
    "        style={\"description_width\": \"initial\"},\n",
    "    )"
   ]
  },
  {
   "cell_type": "code",
   "execution_count": null,
   "metadata": {},
   "outputs": [],
   "source": [
    "x_range_widget = widgets.IntRangeSlider(\n",
    "    value=[0, w_image],\n",
    "    min=0,\n",
    "    max=w_image,\n",
    "    step=1,\n",
    "    description='Test:',\n",
    "    disabled=False,\n",
    "    continuous_update=True,\n",
    "    orientation='horizontal',\n",
    "    readout=True,\n",
    "    readout_format='d',\n",
    "    layout=ipywidgets.Layout(width=\"500px\"),\n",
    ")\n",
    "\n",
    "y_range_widget = widgets.IntRangeSlider(\n",
    "    value=[0, h_image],\n",
    "    min=0,\n",
    "    max=h_image,\n",
    "    step=1,\n",
    "    description='Test:',\n",
    "    disabled=False,\n",
    "    continuous_update=True,\n",
    "    orientation='vertical',\n",
    "    readout=True,\n",
    "    readout_format='d',\n",
    "    layout=ipywidgets.Layout(width=\"500px\"),\n",
    ")"
   ]
  },
  {
   "cell_type": "code",
   "execution_count": null,
   "metadata": {},
   "outputs": [],
   "source": [
    "x1_widget"
   ]
  },
  {
   "cell_type": "code",
   "execution_count": null,
   "metadata": {},
   "outputs": [],
   "source": [
    "def func_x_range(X_range, line_color):\n",
    "\n",
    "    x_min, x_max = X_range\n",
    "\n",
    "    # plt.figure(figsize=(5, 5))\n",
    "    draw_image(image)\n",
    "\n",
    "    plt.vlines(x=x_min, ymin=0, ymax=h_image, linestyles='--', color=line_color)\n",
    "    plt.vlines(x=x_max, ymin=0, ymax=h_image, linestyles='--', color=line_color)\n",
    "    plt.xticks([])\n",
    "    plt.yticks([])\n",
    "    # plt.axis(\"off\")\n",
    "    # rect = Rectangle((0, 0), w_image, h_image, edgecolor=\"blue\", facecolor=\"none\")\n",
    "    # ax = plt.gca()\n",
    "    # ax.add_patch(rect)\n",
    "\n",
    "\n",
    "def func_y_range(Y_range, line_color):\n",
    "\n",
    "    y_min, y_max = Y_range\n",
    "\n",
    "    # plt.figure(figsize=(5, 5))\n",
    "    draw_image(image)\n",
    "\n",
    "    plt.hlines(y=y_min, xmin=0, xmax=w_image, linestyles='--', color=line_color)\n",
    "    plt.hlines(y=y_max, xmin=0, xmax=w_image, linestyles='--', color=line_color)\n",
    "    plt.xticks([])\n",
    "    plt.yticks([])\n",
    "    # plt.axis(\"off\")\n",
    "    # rect = Rectangle((0, 0), w_image, h_image, edgecolor=\"blue\", facecolor=\"none\")\n",
    "    # ax = plt.gca()\n",
    "    # ax.add_patch(rect)\n",
    "\n",
    "        "
   ]
  },
  {
   "cell_type": "code",
   "execution_count": null,
   "metadata": {},
   "outputs": [],
   "source": [
    "interact(\n",
    "    func_y_range,\n",
    "    Y_range=y_range_widget,\n",
    "    line_color=fixed(\"red\"),\n",
    "    continuous_update=True,\n",
    ");"
   ]
  },
  {
   "cell_type": "code",
   "execution_count": null,
   "metadata": {},
   "outputs": [],
   "source": [
    "out = Output(layout={'width': '300px', 'height': '300px'})\n",
    "\n",
    "y_range_widget.observe(func_y_range, 'value')\n",
    "func_y_range(y_range_widget.value, \"red\") \n",
    "display(HBox([out, y_range_widget]))"
   ]
  },
  {
   "cell_type": "code",
   "execution_count": null,
   "metadata": {},
   "outputs": [],
   "source": []
  },
  {
   "cell_type": "code",
   "execution_count": null,
   "metadata": {},
   "outputs": [],
   "source": []
  },
  {
   "cell_type": "code",
   "execution_count": null,
   "metadata": {},
   "outputs": [],
   "source": [
    "def func(X_1, line_color):\n",
    "\n",
    "\n",
    "    # plt.figure(figsize=(5, 5))\n",
    "    draw_image(image)\n",
    "\n",
    "    plt.vlines(x=X_1, ymin=0, ymax=h_image, linestyles='--', color=line_color)\n",
    "    plt.xticks([])\n",
    "    plt.yticks([])\n",
    "    # plt.axis(\"off\")\n",
    "    # rect = Rectangle((0, 0), w_image, h_image, edgecolor=\"blue\", facecolor=\"none\")\n",
    "    # ax = plt.gca()\n",
    "    # ax.add_patch(rect)\n",
    "\n",
    "    "
   ]
  },
  {
   "cell_type": "code",
   "execution_count": null,
   "metadata": {},
   "outputs": [],
   "source": [
    "w_image"
   ]
  },
  {
   "cell_type": "code",
   "execution_count": null,
   "metadata": {},
   "outputs": [],
   "source": [
    "interact(\n",
    "    func,\n",
    "    X_1=x1_widget,\n",
    "    line_color=fixed(\"red\"),\n",
    "    continuous_update=True,\n",
    ");"
   ]
  },
  {
   "cell_type": "code",
   "execution_count": null,
   "metadata": {},
   "outputs": [],
   "source": [
    "draw_image(image)\n",
    "\n",
    "lines_color = \"C3\"\n",
    "\n",
    "plt.hlines(y=50, xmin=0, xmax=w_image, linestyles='--', color=lines_color)\n",
    "plt.hlines(y=200, xmin=0, xmax=w_image, linestyles='--', color=lines_color)\n",
    "\n",
    "plt.vlines(x=50, ymin=0, ymax=h_image, linestyles='--', color=lines_color)\n",
    "plt.vlines(x=200, ymin=0, ymax=h_image, linestyles='--', color=lines_color)\n",
    "\n",
    "None"
   ]
  },
  {
   "cell_type": "code",
   "execution_count": null,
   "metadata": {},
   "outputs": [],
   "source": [
    "from IPython.display import display, clear_output\n",
    "import ipywidgets\n",
    "import matplotlib.pyplot as plt\n",
    "import numpy as np\n",
    "\n",
    "\n",
    "out = ipywidgets.Output()\n",
    "# out = ipywidgets.Output(layout={'width': '500px', 'height': '500px'})\n",
    "\n",
    "def update(Y_range):\n",
    "    line_color = \"red\"\n",
    "\n",
    "    # y_min, y_max = Y_range\n",
    "    print(Y_range)\n",
    "    y_min, y_max = Y_range\n",
    "\n",
    "    # plt.figure(figsize=(5, 5))\n",
    "    with out:\n",
    "        clear_output()\n",
    "\n",
    "        # fig = plt.figure(figsize=(5, 5))\n",
    "        draw_image(image)\n",
    "        plt.hlines(y=h_image - y_min, xmin=0, xmax=w_image, linestyles='--', color=line_color)\n",
    "        plt.hlines(y=h_image - y_max, xmin=0, xmax=w_image, linestyles='--', color=line_color)\n",
    "        plt.xticks([])\n",
    "        plt.yticks([])\n",
    "        plt.show()\n",
    "    # plt.axis(\"off\")\n",
    "    # rect = Rectangle((0, 0), w_image, h_image, edgecolor=\"blue\", facecolor=\"none\")\n",
    "    # ax = plt.gca()\n",
    "    # ax.add_patch(rect)\n",
    "\n",
    "\n",
    "# slider = ipywidgets.IntSlider(min=0, max=10, orientation='vertical')\n",
    "y_range_slider = ipywidgets.IntRangeSlider(\n",
    "    value=[0, h_image],\n",
    "    min=0,\n",
    "    max=h_image,\n",
    "    step=1,\n",
    "    description='Test:',\n",
    "    disabled=False,\n",
    "    continuous_update=True,\n",
    "    orientation='vertical',\n",
    "    readout=True,\n",
    "    readout_format='d',\n",
    "    layout=ipywidgets.Layout(height=\"300px\"),\n",
    ")\n",
    "\n",
    "\n",
    "widget = ipywidgets.interactive(update, Y_range=y_range_slider)\n",
    "\n",
    "layout = ipywidgets.Layout(\n",
    "#     display = 'flex',\n",
    "#                    flex_flow = 'row',\n",
    "#                    justify_content = 'space-between',\n",
    "# height=\"500px\",\n",
    "# width=\"500px\",\n",
    "                   align_items = 'center',\n",
    "                   )\n",
    "widgets = ipywidgets.HBox(\n",
    "    children=(y_range_slider, out),\n",
    "    layout=layout\n",
    ")\n",
    "display(widgets)"
   ]
  },
  {
   "cell_type": "code",
   "execution_count": null,
   "metadata": {},
   "outputs": [],
   "source": [
    "from IPython.display import display, clear_output\n",
    "import ipywidgets\n",
    "import matplotlib.pyplot as plt\n",
    "import numpy as np\n",
    "\n",
    "# setup figure\n",
    "n = 10\n",
    "\n",
    "out = ipywidgets.Output()\n",
    "\n",
    "# show random mesh\n",
    "def update(idx):\n",
    "    with out:\n",
    "        clear_output()\n",
    "        fig, ax = plt.subplots(figsize = (5,5))\n",
    "        h = ax.imshow(np.random.rand(n, n))\n",
    "        h.set_data(np.random.rand(n, n))\n",
    "        fig.canvas.flush_events()\n",
    "        fig.canvas.draw()\n",
    "        plt.show()\n",
    "\n",
    "slider = ipywidgets.IntSlider(min=0, max=10, orientation= 'vertical')\n",
    "widget = ipywidgets.interactive(update, idx = slider)\n",
    "\n",
    "layout = ipywidgets.Layout(\n",
    "#     display = 'flex',\n",
    "#                    flex_flow = 'row',\n",
    "#                    justify_content = 'space-between',\n",
    "#                    align_items = 'center',\n",
    "                   )\n",
    "widgets = ipywidgets.HBox(children=(slider, out), layout = layout)\n",
    "display(widgets)"
   ]
  },
  {
   "cell_type": "code",
   "execution_count": null,
   "metadata": {},
   "outputs": [],
   "source": []
  }
 ],
 "metadata": {
  "kernelspec": {
   "display_name": "scanplot-hacNhlbC-py3.11",
   "language": "python",
   "name": "python3"
  },
  "language_info": {
   "codemirror_mode": {
    "name": "ipython",
    "version": 3
   },
   "file_extension": ".py",
   "mimetype": "text/x-python",
   "name": "python",
   "nbconvert_exporter": "python",
   "pygments_lexer": "ipython3",
   "version": "3.11.2"
  }
 },
 "nbformat": 4,
 "nbformat_minor": 2
}
