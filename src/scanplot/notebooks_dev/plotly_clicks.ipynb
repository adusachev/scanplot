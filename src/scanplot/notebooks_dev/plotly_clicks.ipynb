{
 "cells": [
  {
   "cell_type": "code",
   "execution_count": null,
   "metadata": {},
   "outputs": [],
   "source": [
    "import pandas as pd\n",
    "import numpy as np\n",
    "import plotly.express as px\n",
    "import plotly.graph_objects as go\n",
    "\n",
    "\n",
    "x=np.random.uniform(-10,10,size=50)\n",
    "y=np.sin(x)\n",
    "\n",
    "fig=go.FigureWidget([go.Scatter(x=x, y=y, mode='markers')])\n",
    "\n",
    "fig.update_layout(template='simple_white')\n",
    "\n",
    "scatter=fig.data[0]\n",
    "colors=['#a3a7e4']*100\n",
    "scatter.marker.color=colors\n",
    "scatter.marker.size=[10]*100\n",
    "fig.layout.hovermode='closest'\n",
    "\n",
    "fig.update_traces(marker=dict(line=dict(color='DarkSlateGrey')))\n",
    "\n",
    "# create our callback function\n",
    "def update_point(trace, points, selector):\n",
    "    print(points)\n",
    "    c = list(scatter.marker.color)\n",
    "    s = list(scatter.marker.size)\n",
    "    for i in points.point_inds:\n",
    "        c[i]='#bae2be'\n",
    "        s[i]=20\n",
    "        with fig.batch_update():\n",
    "            scatter.marker.color=c\n",
    "            scatter.marker.size=s\n",
    "\n",
    "\n",
    "scatter.on_click(update_point)\n",
    "\n",
    "fig"
   ]
  },
  {
   "cell_type": "code",
   "execution_count": null,
   "metadata": {},
   "outputs": [],
   "source": [
    "scatter"
   ]
  },
  {
   "cell_type": "code",
   "execution_count": null,
   "metadata": {},
   "outputs": [],
   "source": []
  }
 ],
 "metadata": {
  "kernelspec": {
   "display_name": "venv11",
   "language": "python",
   "name": "python3"
  },
  "language_info": {
   "codemirror_mode": {
    "name": "ipython",
    "version": 3
   },
   "file_extension": ".py",
   "mimetype": "text/x-python",
   "name": "python",
   "nbconvert_exporter": "python",
   "pygments_lexer": "ipython3",
   "version": "3.11.2"
  }
 },
 "nbformat": 4,
 "nbformat_minor": 2
}
