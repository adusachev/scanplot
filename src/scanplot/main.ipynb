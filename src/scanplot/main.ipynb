{
 "cells": [
  {
   "cell_type": "markdown",
   "metadata": {},
   "source": [
    "# Setup"
   ]
  },
  {
   "cell_type": "markdown",
   "metadata": {},
   "source": [
    "## Import libraries"
   ]
  },
  {
   "cell_type": "code",
   "execution_count": 1,
   "metadata": {},
   "outputs": [],
   "source": [
    "import os\n",
    "import pathlib\n",
    "import matplotlib.pyplot as plt\n",
    "import numpy as np\n",
    "import cv2 as cv\n",
    "\n",
    "from ipywidgets import interact, widgets, fixed\n",
    "import ipywidgets\n",
    "from plotly.express import imshow as imshow_interactive"
   ]
  },
  {
   "cell_type": "code",
   "execution_count": 2,
   "metadata": {},
   "outputs": [],
   "source": [
    "from dotenv import load_dotenv\n",
    "\n",
    "BASE_DIR = pathlib.Path(__name__).resolve().parent.parent.parent\n",
    "load_dotenv(BASE_DIR / '.env')\n",
    "DATA_PATH = pathlib.Path(os.getenv(\"DATA_PATH\"))"
   ]
  },
  {
   "cell_type": "markdown",
   "metadata": {},
   "source": [
    "## Import core modules"
   ]
  },
  {
   "cell_type": "code",
   "execution_count": 3,
   "metadata": {},
   "outputs": [],
   "source": [
    "import sys\n",
    "import pathlib\n",
    "SRC_DIR = str(pathlib.Path(__name__).resolve().parent.parent)\n",
    "sys.path.append(SRC_DIR)"
   ]
  },
  {
   "cell_type": "code",
   "execution_count": 4,
   "metadata": {},
   "outputs": [],
   "source": [
    "from scanplot.setup_logger import logger"
   ]
  },
  {
   "cell_type": "code",
   "execution_count": 5,
   "metadata": {},
   "outputs": [],
   "source": [
    "from scanplot.utils.read_image import read_image_rgb\n",
    "from scanplot.utils.drawing import draw_image, draw_points_on_canvas, draw_points_on_image\n",
    "from scanplot.utils.widgets import init_points_num_slider, init_points_density_slider"
   ]
  },
  {
   "cell_type": "code",
   "execution_count": 6,
   "metadata": {},
   "outputs": [],
   "source": [
    "from scanplot.core.template_match import template_match\n",
    "from scanplot.core.preprocess import replace_black_pixels\n",
    "from scanplot.core.conv_map_operations import normalize_map\n",
    "from scanplot.core.process_template import template_tresholding, crop_image, reconstruct_template_mask\n",
    "from scanplot.core.hough_transform import generalized_hough_transform\n",
    "from scanplot.core.parameters_search import linear_parameter_transform, get_corr_map_maximums\n",
    "from scanplot.core.nms import apply_nms"
   ]
  },
  {
   "cell_type": "markdown",
   "metadata": {},
   "source": [
    "# Pipeline"
   ]
  },
  {
   "cell_type": "markdown",
   "metadata": {},
   "source": [
    "## Upload plot and template"
   ]
  },
  {
   "cell_type": "code",
   "execution_count": 7,
   "metadata": {},
   "outputs": [],
   "source": [
    "PLOT_NUMBER = 59\n",
    "MARKER_NUMBER = 2\n",
    "\n",
    "PLOT_PATH = DATA_PATH / f\"plot{PLOT_NUMBER}.png\"\n",
    "TEMPLATE_PATH = DATA_PATH / \"markers_same_shape\" / f\"plot{PLOT_NUMBER}_marker{MARKER_NUMBER}.png\""
   ]
  },
  {
   "cell_type": "code",
   "execution_count": 8,
   "metadata": {},
   "outputs": [
    {
     "name": "stderr",
     "output_type": "stream",
     "text": [
      "DEBUG - preprocess.py - replace_black_pixels: Number of black pixels on image: 3\n",
      "DEBUG - preprocess.py - replace_black_pixels: Number of black pixels on image: 0\n"
     ]
    }
   ],
   "source": [
    "source_image = read_image_rgb(PLOT_PATH)\n",
    "source_template = read_image_rgb(TEMPLATE_PATH)\n",
    "\n",
    "image = replace_black_pixels(source_image)\n",
    "template = replace_black_pixels(source_template)"
   ]
  },
  {
   "cell_type": "code",
   "execution_count": 9,
   "metadata": {},
   "outputs": [
    {
     "data": {
      "text/plain": [
       "(243, 371)"
      ]
     },
     "execution_count": 9,
     "metadata": {},
     "output_type": "execute_result"
    }
   ],
   "source": [
    "h_image, w_image = image.shape[0], image.shape[1]\n",
    "h_template, w_template = template.shape[0], template.shape[1]\n",
    "\n",
    "h_image, w_image"
   ]
  },
  {
   "cell_type": "code",
   "execution_count": 10,
   "metadata": {},
   "outputs": [
    {
     "data": {
      "text/plain": [
       "([], [])"
      ]
     },
     "execution_count": 10,
     "metadata": {},
     "output_type": "execute_result"
    },
    {
     "data": {
      "image/png": "[encoded data removed]",
      "text/plain": [
       "<Figure size 640x480 with 2 Axes>"
      ]
     },
     "metadata": {},
     "output_type": "display_data"
    }
   ],
   "source": [
    "plt.subplot(1, 2, 1)\n",
    "draw_image(image)\n",
    "plt.xticks([]); plt.yticks([])\n",
    "\n",
    "plt.subplot(1, 2, 2)\n",
    "draw_image(template)\n",
    "plt.xticks([]); plt.yticks([])"
   ]
  },
  {
   "cell_type": "markdown",
   "metadata": {},
   "source": [
    "## Tresholding"
   ]
  },
  {
   "cell_type": "code",
   "execution_count": 11,
   "metadata": {},
   "outputs": [
    {
     "data": {
      "text/plain": [
       "([], [])"
      ]
     },
     "execution_count": 11,
     "metadata": {},
     "output_type": "execute_result"
    },
    {
     "data": {
      "image/png": "[encoded data removed]",
      "text/plain": [
       "<Figure size 640x480 with 2 Axes>"
      ]
     },
     "metadata": {},
     "output_type": "display_data"
    }
   ],
   "source": [
    "TRESHOLD_VALUE = 190\n",
    "template_mask = template_tresholding(template, TRESHOLD_VALUE)\n",
    "new_template_mask = reconstruct_template_mask(template_mask)\n",
    "\n",
    "fig = plt.figure()\n",
    "plt.subplot(1, 2, 1)\n",
    "draw_image(template_mask)\n",
    "plt.xticks([]); plt.yticks([])\n",
    "\n",
    "plt.subplot(1, 2, 2)\n",
    "draw_image(new_template_mask)\n",
    "plt.xticks([]); plt.yticks([])"
   ]
  },
  {
   "cell_type": "markdown",
   "metadata": {},
   "source": [
    "## Template matching"
   ]
  },
  {
   "cell_type": "code",
   "execution_count": 12,
   "metadata": {},
   "outputs": [
    {
     "name": "stderr",
     "output_type": "stream",
     "text": [
      "DEBUG - template_match.py - template_match: Convolution map bounds: (0.0, 1.370851)\n",
      "DEBUG - template_match.py - template_match: Convolution map was inverted\n",
      "DEBUG - template_match.py - template_match: Convolution map bounds: (0.0, 1.370851)\n",
      "DEBUG - template_match.py - template_match: Convolution map was inverted\n"
     ]
    }
   ],
   "source": [
    "# method_name = 'SQDIFF_MODIFICATION_V3_WITH_HOUGH'\n",
    "method_name = 'SQDIFF_MODIFICATION_V2'\n",
    "method = \"cv.TM_SQDIFF_NORMED\"\n",
    "\n",
    "convolution_map, _ = template_match(image, template, template_mask, method)\n",
    "convolution_map2, _ = template_match(image, template, new_template_mask, method)"
   ]
  },
  {
   "cell_type": "markdown",
   "metadata": {},
   "source": [
    "## Hough transform"
   ]
  },
  {
   "cell_type": "code",
   "execution_count": 13,
   "metadata": {},
   "outputs": [],
   "source": [
    "accumulator = generalized_hough_transform(image, template, norm_result=True, crop_result=True)\n",
    "\n",
    "assert convolution_map.shape == accumulator.shape"
   ]
  },
  {
   "cell_type": "markdown",
   "metadata": {},
   "source": [
    "## Combine convolution maps"
   ]
  },
  {
   "cell_type": "code",
   "execution_count": 14,
   "metadata": {},
   "outputs": [],
   "source": [
    "convolution_map = normalize_map(convolution_map)\n",
    "convolution_map2 = normalize_map(convolution_map2)\n",
    "\n",
    "convolution_map3 = convolution_map + 0.7 * convolution_map2\n",
    "convolution_map3 = normalize_map(convolution_map3)\n",
    "\n",
    "convolution_map4 = convolution_map + 0.6 * accumulator\n",
    "convolution_map4 = normalize_map(convolution_map4)"
   ]
  },
  {
   "cell_type": "code",
   "execution_count": 15,
   "metadata": {},
   "outputs": [],
   "source": [
    "# imshow_interactive(convolution_map4)"
   ]
  },
  {
   "cell_type": "markdown",
   "metadata": {},
   "source": [
    "## Interactive parameters search"
   ]
  },
  {
   "cell_type": "markdown",
   "metadata": {},
   "source": [
    "1) `points_num` - отвечает за количество точек (чем больше, тем больше точек детектируется)\n",
    "\n",
    "`points_num` = 0 => 1 точка\n",
    "\n",
    "`points_num` = 100 => бесконечно много точек \n",
    "\n",
    "\n",
    "2) `points_density` - отвечает за плотность точек (чем больше, тем **разреженнее** результат)\n",
    "\n",
    "`points_density` = 0 => не применяем NMS\n",
    "\n",
    "`points_density` = 100 => убираем очень много соседей"
   ]
  },
  {
   "cell_type": "code",
   "execution_count": 16,
   "metadata": {},
   "outputs": [],
   "source": [
    "# TODO: move to separate module\n",
    "\n",
    "def detect_points_on_map(\n",
    "        points_num: float,\n",
    "        points_density: float,\n",
    "        correlation_map: np.ndarray,\n",
    "        draw_detections: bool = True,\n",
    "        return_result: bool = False,\n",
    "        figure_size: int = 10,\n",
    "        marker_size: int = 60,\n",
    "        marker_color: str = \"yellow\"\n",
    ") -> np.ndarray | None:\n",
    "    \n",
    "    ## transform parameters\n",
    "    corr_map_treshold = linear_parameter_transform(points_num, a=-0.01, b=1)\n",
    "    iou_treshold = linear_parameter_transform(points_density, a=-0.01, b=1)\n",
    "\n",
    "    ## get max points\n",
    "    max_points, _ = get_corr_map_maximums(\n",
    "        correlation_map=correlation_map,\n",
    "        treshold=corr_map_treshold\n",
    "    )\n",
    "    \n",
    "    ## NMS\n",
    "    actual_points = apply_nms(\n",
    "        points=max_points,\n",
    "        correlation_map=correlation_map,\n",
    "        iou_treshold=iou_treshold,\n",
    "        bbox_width=w_template,   # TODO: this is global variable, fix it (!)\n",
    "        bbox_height=h_template   # TODO: this is global variable, fix it (!)\n",
    "    )\n",
    "    x_nms = actual_points[:, 0]\n",
    "    y_nms = actual_points[:, 1]\n",
    "    number_of_points = len(actual_points)\n",
    "\n",
    "    ## draw founded points on original image\n",
    "    if draw_detections:\n",
    "        plt.figure(figsize=(figure_size, figure_size))\n",
    "        draw_image(source_image)\n",
    "        plt.scatter(x_nms, y_nms, \n",
    "                    s=marker_size, c=marker_color, marker=\"*\", \n",
    "                    edgecolors='black', linewidths=0.2)\n",
    "        plt.xticks([]); plt.yticks([])\n",
    "        plt.title(f\"Number of Points: {number_of_points}\")\n",
    "        plt.show()\n",
    "\n",
    "    if return_result:\n",
    "        return actual_points"
   ]
  },
  {
   "cell_type": "code",
   "execution_count": 18,
   "metadata": {},
   "outputs": [
    {
     "data": {
      "application/vnd.jupyter.widget-view+json": {
       "model_id": "2f98a5b190004e9d81c5c002673aeb62",
       "version_major": 2,
       "version_minor": 0
      },
      "text/plain": [
       "interactive(children=(FloatSlider(value=20.0, description='Points Number:', layout=Layout(width='500px'), read…"
      ]
     },
     "metadata": {},
     "output_type": "display_data"
    }
   ],
   "source": [
    "# parameters for drawing detections (may be customized)\n",
    "figure_size = 12\n",
    "marker_size = 200\n",
    "marker_color = \"yellow\"\n",
    "\n",
    "\n",
    "interact(\n",
    "    detect_points_on_map,\n",
    "    points_num=init_points_num_slider(),  # variable\n",
    "    points_density=init_points_density_slider(),  # variable\n",
    "    correlation_map=fixed(convolution_map4),  # constants\n",
    "    draw_detections=fixed(True),\n",
    "    return_result=fixed(False),\n",
    "    figure_size=fixed(figure_size),\n",
    "    marker_size=fixed(marker_size),\n",
    "    marker_color=fixed(marker_color),\n",
    "    continuous_update=True\n",
    ");"
   ]
  },
  {
   "cell_type": "code",
   "execution_count": null,
   "metadata": {},
   "outputs": [],
   "source": []
  },
  {
   "cell_type": "code",
   "execution_count": null,
   "metadata": {},
   "outputs": [],
   "source": []
  }
 ],
 "metadata": {
  "kernelspec": {
   "display_name": "venv",
   "language": "python",
   "name": "python3"
  },
  "language_info": {
   "codemirror_mode": {
    "name": "ipython",
    "version": 3
   },
   "file_extension": ".py",
   "mimetype": "text/x-python",
   "name": "python",
   "nbconvert_exporter": "python",
   "pygments_lexer": "ipython3",
   "version": "3.11.2"
  }
 },
 "nbformat": 4,
 "nbformat_minor": 2
}
