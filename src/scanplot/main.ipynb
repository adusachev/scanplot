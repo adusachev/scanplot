{
 "cells": [
  {
   "cell_type": "markdown",
   "metadata": {},
   "source": [
    "# Setup"
   ]
  },
  {
   "cell_type": "markdown",
   "metadata": {},
   "source": [
    "## Import libraries"
   ]
  },
  {
   "cell_type": "code",
   "execution_count": null,
   "metadata": {},
   "outputs": [],
   "source": [
    "import matplotlib.pyplot as plt\n",
    "import numpy as np\n",
    "import cv2 as cv\n",
    "\n",
    "from ipywidgets import interact, widgets, fixed\n",
    "from plotly.express import imshow as imshow_interactive"
   ]
  },
  {
   "cell_type": "markdown",
   "metadata": {},
   "source": [
    "## Import core modules"
   ]
  },
  {
   "cell_type": "code",
   "execution_count": null,
   "metadata": {},
   "outputs": [],
   "source": [
    "import sys\n",
    "import pathlib\n",
    "SRC_DIR = str(pathlib.Path(__name__).resolve().parent.parent)\n",
    "sys.path.append(SRC_DIR)"
   ]
  },
  {
   "cell_type": "code",
   "execution_count": null,
   "metadata": {},
   "outputs": [],
   "source": [
    "from scanplot.setup_logger import logger"
   ]
  },
  {
   "cell_type": "code",
   "execution_count": null,
   "metadata": {},
   "outputs": [],
   "source": [
    "from scanplot.utils.read_image import read_image_rgb\n",
    "from scanplot.utils.drawing import draw_image, draw_points_on_canvas, draw_points_on_image\n",
    "from scanplot.utils.widgets import init_points_num_slider, init_points_density_slider"
   ]
  },
  {
   "cell_type": "code",
   "execution_count": null,
   "metadata": {},
   "outputs": [],
   "source": [
    "from scanplot.core.template_match import template_match\n",
    "from scanplot.core.preprocess import replace_black_pixels\n",
    "from scanplot.core.conv_map_operations import normalize_map\n",
    "from scanplot.core.process_template import template_tresholding, crop_image, reconstruct_template_mask\n",
    "from scanplot.core.hough_transform import generalized_hough_transform\n",
    "from scanplot.core.parameters_search import linear_parameter_transform, get_corr_map_maximums\n",
    "from scanplot.core.nms import apply_nms"
   ]
  },
  {
   "cell_type": "markdown",
   "metadata": {},
   "source": [
    "# Algorithm Pipeline"
   ]
  },
  {
   "cell_type": "markdown",
   "metadata": {},
   "source": [
    "## Upload plot image and template image"
   ]
  },
  {
   "cell_type": "markdown",
   "metadata": {},
   "source": [
    "Input data examples can be found in `<REPOSITORY>/sample_data/`."
   ]
  },
  {
   "cell_type": "code",
   "execution_count": null,
   "metadata": {},
   "outputs": [],
   "source": [
    "DATA_PATH = pathlib.Path(\"../../sample_data/\")"
   ]
  },
  {
   "cell_type": "code",
   "execution_count": null,
   "metadata": {},
   "outputs": [],
   "source": [
    "PLOT_NUMBER = 59\n",
    "MARKER_NUMBER = 1\n",
    "\n",
    "PLOT_PATH = DATA_PATH / \"plot_images\" / f\"plot{PLOT_NUMBER}.png\"\n",
    "TEMPLATE_PATH = DATA_PATH / \"marker_images\" / f\"plot{PLOT_NUMBER}_marker{MARKER_NUMBER}.png\""
   ]
  },
  {
   "cell_type": "code",
   "execution_count": null,
   "metadata": {},
   "outputs": [],
   "source": [
    "source_image = read_image_rgb(PLOT_PATH)\n",
    "source_template = read_image_rgb(TEMPLATE_PATH)\n",
    "\n",
    "image = replace_black_pixels(source_image)\n",
    "template = replace_black_pixels(source_template)\n",
    "\n",
    "h_image, w_image = image.shape[0], image.shape[1]\n",
    "h_template, w_template = template.shape[0], template.shape[1]"
   ]
  },
  {
   "cell_type": "code",
   "execution_count": null,
   "metadata": {},
   "outputs": [],
   "source": [
    "plt.subplot(1, 2, 1)\n",
    "draw_image(image)\n",
    "plt.title(\"Source image\")\n",
    "plt.xticks([]); plt.yticks([])\n",
    "\n",
    "plt.subplot(1, 2, 2)\n",
    "draw_image(template)\n",
    "plt.title(\"Chosen marker\")\n",
    "plt.xticks([]); plt.yticks([]);"
   ]
  },
  {
   "cell_type": "markdown",
   "metadata": {},
   "source": [
    "## Tresholding"
   ]
  },
  {
   "cell_type": "code",
   "execution_count": null,
   "metadata": {},
   "outputs": [],
   "source": [
    "TRESHOLD_VALUE = 190\n",
    "template_mask = template_tresholding(template, TRESHOLD_VALUE)\n",
    "new_template_mask = reconstruct_template_mask(template_mask)\n",
    "\n",
    "# fig = plt.figure()\n",
    "# plt.subplot(1, 2, 1)\n",
    "# draw_image(template_mask)\n",
    "# plt.xticks([]); plt.yticks([])\n",
    "\n",
    "# plt.subplot(1, 2, 2)\n",
    "# draw_image(new_template_mask)\n",
    "# plt.xticks([]); plt.yticks([]);"
   ]
  },
  {
   "cell_type": "markdown",
   "metadata": {},
   "source": [
    "## Template matching"
   ]
  },
  {
   "cell_type": "markdown",
   "metadata": {},
   "source": [
    "Run template matching algorithm and compute convolutoin (or correlatoin) map."
   ]
  },
  {
   "cell_type": "code",
   "execution_count": null,
   "metadata": {},
   "outputs": [],
   "source": [
    "method = \"cv.TM_SQDIFF_NORMED\"\n",
    "\n",
    "convolution_map, _ = template_match(image, template, template_mask, method)\n",
    "convolution_map2, _ = template_match(image, template, new_template_mask, method)"
   ]
  },
  {
   "cell_type": "markdown",
   "metadata": {},
   "source": [
    "## Hough transform"
   ]
  },
  {
   "cell_type": "code",
   "execution_count": null,
   "metadata": {},
   "outputs": [],
   "source": [
    "accumulator = generalized_hough_transform(image, template, norm_result=True, crop_result=True)\n",
    "\n",
    "assert convolution_map.shape == accumulator.shape"
   ]
  },
  {
   "cell_type": "markdown",
   "metadata": {},
   "source": [
    "## Combine convolution maps"
   ]
  },
  {
   "cell_type": "markdown",
   "metadata": {},
   "source": [
    "This step combines correlation map obtained by template matching algorithm and accumulator array from Hough Transform."
   ]
  },
  {
   "cell_type": "code",
   "execution_count": null,
   "metadata": {},
   "outputs": [],
   "source": [
    "convolution_map = normalize_map(convolution_map)\n",
    "convolution_map2 = normalize_map(convolution_map2)\n",
    "\n",
    "convolution_map_combined = convolution_map + 0.7 * convolution_map2\n",
    "convolution_map_combined = normalize_map(convolution_map_combined)\n",
    "\n",
    "convolution_map_with_hough = convolution_map + 0.6 * accumulator\n",
    "convolution_map_with_hough = normalize_map(convolution_map_with_hough)"
   ]
  },
  {
   "cell_type": "code",
   "execution_count": null,
   "metadata": {},
   "outputs": [],
   "source": [
    "# imshow_interactive(convolution_map_with_hough)"
   ]
  },
  {
   "cell_type": "markdown",
   "metadata": {},
   "source": [
    "## Algorithm parameters"
   ]
  },
  {
   "cell_type": "markdown",
   "metadata": {},
   "source": [
    "The algorithm has 2 parameters:\n",
    "- Points Number\n",
    "- Points Density\n"
   ]
  },
  {
   "cell_type": "markdown",
   "metadata": {},
   "source": [
    "The impact of these parameters on the final result is shown in the images below:\n",
    "\n",
    "![](../../docs/images/parameter_search_1.png)\n",
    "\n",
    "![](../../docs/images/parameter_search_2.png)"
   ]
  },
  {
   "cell_type": "code",
   "execution_count": null,
   "metadata": {},
   "outputs": [],
   "source": [
    "def detect_points_on_map(\n",
    "        points_num: float,\n",
    "        points_density: float,\n",
    "        correlation_map: np.ndarray,\n",
    "        draw_detections: bool = True,\n",
    "        return_result: bool = False,\n",
    "        figure_size: int = 10,\n",
    "        marker_size: int = 60,\n",
    "        marker_color: str = \"yellow\"\n",
    ") -> np.ndarray | None:\n",
    "    \n",
    "    ## transform parameters\n",
    "    corr_map_treshold = linear_parameter_transform(points_num, a=-0.01, b=1)\n",
    "    iou_treshold = linear_parameter_transform(points_density, a=-0.01, b=1)\n",
    "\n",
    "    ## get max points\n",
    "    max_points, _ = get_corr_map_maximums(\n",
    "        correlation_map=correlation_map,\n",
    "        treshold=corr_map_treshold\n",
    "    )\n",
    "    \n",
    "    ## NMS\n",
    "    actual_points = apply_nms(\n",
    "        points=max_points,\n",
    "        correlation_map=correlation_map,\n",
    "        iou_treshold=iou_treshold,\n",
    "        bbox_width=w_template,   # TODO: this is global variable, pass as paramrter\n",
    "        bbox_height=h_template   # TODO: this is global variable, pass as paramrter\n",
    "    )\n",
    "    x_nms = actual_points[:, 0]\n",
    "    y_nms = actual_points[:, 1]\n",
    "    number_of_points = len(actual_points)\n",
    "\n",
    "    ## draw founded points on original image\n",
    "    if draw_detections:\n",
    "        plt.figure(figsize=(figure_size, figure_size))\n",
    "        draw_image(source_image)  # TODO: this is global variable, pass as paramrter\n",
    "        plt.scatter(x_nms, y_nms, \n",
    "                    s=marker_size, c=marker_color, marker=\"*\", \n",
    "                    edgecolors='black', linewidths=0.2)\n",
    "        plt.xticks([]); plt.yticks([])\n",
    "        plt.title(f\"Number of Points: {number_of_points}\")\n",
    "        plt.show()\n",
    "\n",
    "    if return_result:\n",
    "        return actual_points"
   ]
  },
  {
   "cell_type": "markdown",
   "metadata": {},
   "source": [
    "## Interactive parameters search with ipywidgets"
   ]
  },
  {
   "cell_type": "code",
   "execution_count": null,
   "metadata": {},
   "outputs": [],
   "source": [
    "# parameters for drawing detections (may be customized)\n",
    "figure_size = 12\n",
    "marker_size = 200\n",
    "marker_color = \"yellow\"\n",
    "\n",
    "\n",
    "interact(\n",
    "    detect_points_on_map,\n",
    "    points_num=init_points_num_slider(),\n",
    "    points_density=init_points_density_slider(),\n",
    "    correlation_map=fixed(convolution_map_with_hough),\n",
    "    draw_detections=fixed(True),\n",
    "    return_result=fixed(False),\n",
    "    figure_size=fixed(figure_size),\n",
    "    marker_size=fixed(marker_size),\n",
    "    marker_color=fixed(marker_color),\n",
    "    continuous_update=True\n",
    ");"
   ]
  },
  {
   "cell_type": "code",
   "execution_count": null,
   "metadata": {},
   "outputs": [],
   "source": [
    "optimal_points_num = 56\n",
    "optimal_points_density = 50\n",
    "\n",
    "points = detect_points_on_map(\n",
    "    points_num=optimal_points_num,\n",
    "    points_density=optimal_points_density,\n",
    "    correlation_map=convolution_map_with_hough,\n",
    "    draw_detections=False,\n",
    "    return_result=True\n",
    ")\n",
    "\n",
    "# points coordinates in pixels (!)\n",
    "x = points[:, 0]\n",
    "y = points[:, 1]\n",
    "plt.scatter(x, y)"
   ]
  },
  {
   "cell_type": "code",
   "execution_count": null,
   "metadata": {},
   "outputs": [],
   "source": []
  }
 ],
 "metadata": {
  "kernelspec": {
   "display_name": "venv",
   "language": "python",
   "name": "python3"
  },
  "language_info": {
   "codemirror_mode": {
    "name": "ipython",
    "version": 3
   },
   "file_extension": ".py",
   "mimetype": "text/x-python",
   "name": "python",
   "nbconvert_exporter": "python",
   "pygments_lexer": "ipython3",
   "version": "3.11.2"
  }
 },
 "nbformat": 4,
 "nbformat_minor": 2
}
